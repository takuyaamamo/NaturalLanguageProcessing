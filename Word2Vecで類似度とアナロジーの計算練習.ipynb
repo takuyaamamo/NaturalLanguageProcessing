{
 "cells": [
  {
   "cell_type": "markdown",
   "metadata": {},
   "source": [
    "### Word2VecをWikipediaのテキストから学習したモデルをダウンロードする\n",
    "\n",
    "- Japanese (W)をダウンロード\n",
    "https://github.com/Kyubyong/wordvectors\n",
    "\n",
    "- dataに配置"
   ]
  },
  {
   "cell_type": "markdown",
   "metadata": {},
   "source": [
    "### gensimライブラリでword2vecモデルを読み込む"
   ]
  },
  {
   "cell_type": "code",
   "execution_count": 3,
   "metadata": {},
   "outputs": [],
   "source": [
    "import gensim\n",
    "\n",
    "# gensimでWord2Vecを読み込み\n",
    "model = gensim.models.Word2Vec.load('data/ja/ja.bin')\n",
    "\n",
    "# 類語を取り出す関数\n",
    "def get_synonyms(text):\n",
    "    results = []\n",
    "    \n",
    "    # gensimにはもっとも類似している単語を取得するmost_similar関数が用意されている。コサイン類似度から計算している。\n",
    "    for word, sim in model.most_similar(text, topn=10):\n",
    "        results.append({'term': word, 'similarity': sim})\n",
    "    return results\n",
    "\n",
    "# 類似度を取得する関数\n",
    "def calc_similarity(text1, text2):\n",
    "    \n",
    "    sim = model.similarity(text1, text2)\n",
    "    return sim"
   ]
  },
  {
   "cell_type": "markdown",
   "metadata": {},
   "source": [
    "### Word2Vecを扱う"
   ]
  },
  {
   "cell_type": "code",
   "execution_count": 4,
   "metadata": {},
   "outputs": [
    {
     "name": "stdout",
     "output_type": "stream",
     "text": [
      "[\n",
      "    {\n",
      "        \"term\": \"イギリス\",\n",
      "        \"similarity\": 0.7778580784797668\n",
      "    },\n",
      "    {\n",
      "        \"term\": \"カナダ\",\n",
      "        \"similarity\": 0.7089664936065674\n",
      "    },\n",
      "    {\n",
      "        \"term\": \"オーストラリア\",\n",
      "        \"similarity\": 0.6960538625717163\n",
      "    },\n",
      "    {\n",
      "        \"term\": \"イギリスアメリカ\",\n",
      "        \"similarity\": 0.671729564666748\n",
      "    },\n",
      "    {\n",
      "        \"term\": \"アルゼンチン\",\n",
      "        \"similarity\": 0.6481400728225708\n",
      "    },\n",
      "    {\n",
      "        \"term\": \"メキシコ\",\n",
      "        \"similarity\": 0.6394718885421753\n",
      "    },\n",
      "    {\n",
      "        \"term\": \"ブラジル\",\n",
      "        \"similarity\": 0.6384978890419006\n",
      "    },\n",
      "    {\n",
      "        \"term\": \"ドイツ\",\n",
      "        \"similarity\": 0.6304243803024292\n",
      "    },\n",
      "    {\n",
      "        \"term\": \"フランス\",\n",
      "        \"similarity\": 0.6301647424697876\n",
      "    },\n",
      "    {\n",
      "        \"term\": \"ニュージーランド\",\n",
      "        \"similarity\": 0.6216776967048645\n",
      "    }\n",
      "]\n"
     ]
    },
    {
     "name": "stderr",
     "output_type": "stream",
     "text": [
      "/home/vagrant/.local/lib/python3.6/site-packages/ipykernel_launcher.py:11: DeprecationWarning: Call to deprecated `most_similar` (Method will be removed in 4.0.0, use self.wv.most_similar() instead).\n",
      "  # This is added back by InteractiveShellApp.init_path()\n"
     ]
    }
   ],
   "source": [
    "import json\n",
    "\n",
    "# word2vecにはアメリカ合衆国という語が登録されていない\n",
    "synonyms = get_synonyms('アメリカ')\n",
    "print(json.dumps(synonyms, indent=4, ensure_ascii=False))"
   ]
  },
  {
   "cell_type": "markdown",
   "metadata": {},
   "source": [
    "「アメリカ合衆国」のように複数の単語からなる語は、そのままWord2Vecのモデルでベクトル化ができない。その代わりに「アメリカ」「合衆国」それぞれをベクトルにしてその平均を取ることで複合語をベクトルにする方法がある\n",
    "\n",
    "犬と猫の用に同じ文脈で使われる単語が類似していると表示される。"
   ]
  },
  {
   "cell_type": "code",
   "execution_count": 5,
   "metadata": {},
   "outputs": [
    {
     "name": "stdout",
     "output_type": "stream",
     "text": [
      "[\n",
      "    {\n",
      "        \"term\": \"衛生\",\n",
      "        \"similarity\": 0.5829343199729919\n",
      "    },\n",
      "    {\n",
      "        \"term\": \"心身\",\n",
      "        \"similarity\": 0.5055597424507141\n",
      "    },\n",
      "    {\n",
      "        \"term\": \"福祉\",\n",
      "        \"similarity\": 0.48429426550865173\n",
      "    },\n",
      "    {\n",
      "        \"term\": \"保健\",\n",
      "        \"similarity\": 0.46757155656814575\n",
      "    },\n",
      "    {\n",
      "        \"term\": \"介護\",\n",
      "        \"similarity\": 0.46678638458251953\n",
      "    },\n",
      "    {\n",
      "        \"term\": \"ケア\",\n",
      "        \"similarity\": 0.4635636508464813\n",
      "    },\n",
      "    {\n",
      "        \"term\": \"環境\",\n",
      "        \"similarity\": 0.4454096853733063\n",
      "    },\n",
      "    {\n",
      "        \"term\": \"精神\",\n",
      "        \"similarity\": 0.43922871351242065\n",
      "    },\n",
      "    {\n",
      "        \"term\": \"疾病\",\n",
      "        \"similarity\": 0.43444523215293884\n",
      "    },\n",
      "    {\n",
      "        \"term\": \"リハビリテーション\",\n",
      "        \"similarity\": 0.426738977432251\n",
      "    }\n",
      "]\n"
     ]
    },
    {
     "name": "stderr",
     "output_type": "stream",
     "text": [
      "/home/vagrant/.local/lib/python3.6/site-packages/ipykernel_launcher.py:11: DeprecationWarning: Call to deprecated `most_similar` (Method will be removed in 4.0.0, use self.wv.most_similar() instead).\n",
      "  # This is added back by InteractiveShellApp.init_path()\n"
     ]
    }
   ],
   "source": [
    "synonyms = get_synonyms('健康')\n",
    "print(json.dumps(synonyms, indent=4, ensure_ascii=False))"
   ]
  },
  {
   "cell_type": "markdown",
   "metadata": {},
   "source": [
    "普通名詞の場合似た意味となる。"
   ]
  },
  {
   "cell_type": "markdown",
   "metadata": {},
   "source": [
    "### アナロジーの計算\n",
    "\n",
    "X = フランス, Y = パリのとき　X’ = 日本　とすると Y’は？  \n",
    "Y’ = (Y - X) + X’となる。？？？  \n",
    "のように計算できることをアナロジーと呼ぶ  \n",
    "Y'は東京であり(Y - X)は首都のような意味だとわかる。  "
   ]
  },
  {
   "cell_type": "code",
   "execution_count": 7,
   "metadata": {},
   "outputs": [],
   "source": [
    "def analogy(X_Y, x):\n",
    "    X, Y = X_Y\n",
    "    results = []\n",
    "    \n",
    "    # negative引数を指定し、Y-X+xを行う事ができる。\n",
    "    # positive側のベクトルの和からnegative側のベクトルの和を引いたベクトルに足して最も類似度の近いベクトルに対応する単語をtopn個返す\n",
    "    # 返り値はy = Y - X + xとしたときのyとなりXにとってのYはxにとっての何であるかというアナロジーへの答えとなる。\n",
    "    for word, sim in model.most_similar(positive=[Y, x], negative=[X], topn=10):\n",
    "        results.append({'term': word, 'similarity': sim})\n",
    "    return results"
   ]
  },
  {
   "cell_type": "code",
   "execution_count": 9,
   "metadata": {},
   "outputs": [
    {
     "name": "stdout",
     "output_type": "stream",
     "text": [
      "[\n",
      "    {\n",
      "        \"term\": \"東京\",\n",
      "        \"similarity\": 0.5726803541183472\n",
      "    },\n",
      "    {\n",
      "        \"term\": \"京都\",\n",
      "        \"similarity\": 0.5042847990989685\n",
      "    },\n",
      "    {\n",
      "        \"term\": \"北京\",\n",
      "        \"similarity\": 0.4632992744445801\n",
      "    },\n",
      "    {\n",
      "        \"term\": \"ロンドン\",\n",
      "        \"similarity\": 0.4597439169883728\n",
      "    },\n",
      "    {\n",
      "        \"term\": \"大阪\",\n",
      "        \"similarity\": 0.4592345654964447\n",
      "    },\n",
      "    {\n",
      "        \"term\": \"上海\",\n",
      "        \"similarity\": 0.4372062683105469\n",
      "    },\n",
      "    {\n",
      "        \"term\": \"ソウル\",\n",
      "        \"similarity\": 0.4371134042739868\n",
      "    },\n",
      "    {\n",
      "        \"term\": \"京第\",\n",
      "        \"similarity\": 0.41076332330703735\n",
      "    },\n",
      "    {\n",
      "        \"term\": \"ニューヨーク\",\n",
      "        \"similarity\": 0.40882599353790283\n",
      "    },\n",
      "    {\n",
      "        \"term\": \"ベルリン\",\n",
      "        \"similarity\": 0.39789241552352905\n",
      "    }\n",
      "]\n"
     ]
    },
    {
     "name": "stderr",
     "output_type": "stream",
     "text": [
      "/home/vagrant/.local/lib/python3.6/site-packages/ipykernel_launcher.py:8: DeprecationWarning: Call to deprecated `most_similar` (Method will be removed in 4.0.0, use self.wv.most_similar() instead).\n",
      "  \n"
     ]
    }
   ],
   "source": [
    "results = analogy(('フランス', 'パリ'), '日本')\n",
    "print(json.dumps(results, indent=4, ensure_ascii=False))"
   ]
  }
 ],
 "metadata": {
  "kernelspec": {
   "display_name": "Python 3",
   "language": "python",
   "name": "python3"
  },
  "language_info": {
   "codemirror_mode": {
    "name": "ipython",
    "version": 3
   },
   "file_extension": ".py",
   "mimetype": "text/x-python",
   "name": "python",
   "nbconvert_exporter": "python",
   "pygments_lexer": "ipython3",
   "version": "3.6.8"
  }
 },
 "nbformat": 4,
 "nbformat_minor": 4
}
