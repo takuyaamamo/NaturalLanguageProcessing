{
 "cells": [
  {
   "cell_type": "markdown",
   "metadata": {},
   "source": [
    "### コサイン類似度とは\n",
    "TF-IDF値同士のベクトル間距離を測ることで文書の近さを計算する。  \n",
    "そのベクトル間距離を計測する方法  \n",
    "三角関数のコサインを利用する  \n",
    "- コサイン類似度が1に近いほど「ベクトル同士の成す角度が小さい」＝類似している\n",
    "- コサイン類似度が0に近いほど「ベクトル同士が直行する」＝類似していない\n",
    "となる。  \n",
    "  \n",
    "TF-IDFの場合、共通する単語が多いほど、大きくなり、TF-IDF値の高い単語が共通しているほど大きくなる。\n",
    "\n",
    "$$\n",
    "\\begin{eqnarray}\n",
    "xとyのコサイン類似度 &=& \\displaystyle \\frac{ xとyの内積 }{ xの絶対値 \\times yの絶対値 } \\\\\n",
    "    &=& \\displaystyle \\frac{ \\displaystyle \\sum_{ i = 1 }^{  } xiyi }{ \\sqrt{ \\displaystyle \\sum_{ i = 1 }^{  } xi^2 } \\times \\sqrt{ \\displaystyle \\sum_{ i = 1 }^{  } yi^2 } }\n",
    "\\end{eqnarray}\n",
    "$$"
   ]
  },
  {
   "cell_type": "code",
   "execution_count": null,
   "metadata": {},
   "outputs": [],
   "source": []
  }
 ],
 "metadata": {
  "kernelspec": {
   "display_name": "Python 3",
   "language": "python",
   "name": "python3"
  },
  "language_info": {
   "codemirror_mode": {
    "name": "ipython",
    "version": 3
   },
   "file_extension": ".py",
   "mimetype": "text/x-python",
   "name": "python",
   "nbconvert_exporter": "python",
   "pygments_lexer": "ipython3",
   "version": "3.6.8"
  }
 },
 "nbformat": 4,
 "nbformat_minor": 4
}
