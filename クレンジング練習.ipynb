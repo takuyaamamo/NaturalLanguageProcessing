{
 "cells": [
  {
   "cell_type": "markdown",
   "metadata": {},
   "source": [
    "## ①Unicode正規化\n",
    "- 半角カタカナや全角、タブ、空白等を分析処理しやすいように整形する（正規化）を行う\n",
    "- re"
   ]
  },
  {
   "cell_type": "markdown",
   "metadata": {},
   "source": [
    "### 関数化"
   ]
  },
  {
   "cell_type": "code",
   "execution_count": 6,
   "metadata": {},
   "outputs": [],
   "source": [
    "# 正規表現操作を行うライブラリ\n",
    "import re\n",
    "# unicodeに従って変換してくれるライブラリ\n",
    "import unicodedata\n",
    "\n",
    "from bs4 import BeautifulSoup\n",
    "\n",
    "# maketransでdictで指定した文字列を変換するテーブルを作成している。これは後にtranslateの引数として指定できる\n",
    "translation_table = str.maketrans(dict(zip('()!', '（）!')))\n",
    "\n",
    "def cleanse(text):\n",
    "#     NFKC形式でtextを変換、さらに、translateにtranslation_tableを指定することでdict内に従って変換する\n",
    "    text = unicodedata.normalize('NFKC', text).translate(translation_table)\n",
    "#     正規表現を使用し\\s+（ひとつ以上の空白文字の連続）を空白一つに変換\n",
    "    text = re.sub(r'\\s+', ' ', text)\n",
    "    return text\n",
    "\n",
    "def scrape(html):\n",
    "    soup = BeautifulSoup(html, 'html.parser')\n",
    "    # __EOS__ の挿入\n",
    "    for block in soup.find_all(['br', 'p', 'h1', 'h2', 'h3', 'h4']):\n",
    "        # strip()で改行を取り除いたブロック内テキストの文字数が0以上 かつ 後ろから一文字目が'。', '！'でない場合\n",
    "        if len(block.text.strip()) > 0 and block.text.strip()[-1] not in ['。', '!']:\n",
    "            # EOSを挿入\n",
    "            block.append('<__EOS__>')\n",
    "        \n",
    "    # 本文の抽出\n",
    "    text = '\\n'.join([\n",
    "        # クレンジング処理を行う\n",
    "        cleanse(tag.text.strip()) for tag in soup.find_all(['p', 'h1', 'h2', 'h3', 'h4']) if len(tag.text.strip()) > 0\n",
    "    ])\n",
    "    \n",
    "    # タイトルの抽出\n",
    "    # ' - Wikipedia'を削除しcleanse\n",
    "    title = cleanse(soup.title.text.replace(' - Wikipedia', ''))\n",
    "    return text, title"
   ]
  },
  {
   "cell_type": "markdown",
   "metadata": {},
   "source": [
    "### クレンジング開始"
   ]
  },
  {
   "cell_type": "code",
   "execution_count": 8,
   "metadata": {},
   "outputs": [
    {
     "name": "stdout",
     "output_type": "stream",
     "text": [
      "[title]:  日本\n",
      "[text]:   日本<__EOS__>\n",
      "日本国（にほんこく、にっぽんこく）、または日本（にほん、にっぽん）は、日本列島（北海道・本州・四国・九州の主要四島およびそれに付随する島々）および南西諸島・伊豆諸島・小笠原諸島などからなる東アジアの島国[1][2]。議会制民主主義国家である。首都は東京都。\n",
      "気候は四季の変化に富み、国土の多くは山地で、人口は平野部に集中している。国内には行政区分として47の都道府県があり、日本人・琉球民族・アイヌ・外国人系の人々などが居住し、事実上の公用語として日本語が使用される。\n",
      "内政では、明治維新後の1890年に憲法を制定し立憲国家となり、第二次世界大戦後の1947年には現行の日本国\n"
     ]
    }
   ],
   "source": [
    "import urllib.request\n",
    "import cchardet\n",
    "\n",
    "if __name__ == '__main__':\n",
    "    url = 'https://ja.wikipedia.org/wiki/%E6%97%A5%E6%9C%AC'\n",
    "    with urllib.request.urlopen(url) as res:\n",
    "        byte = res.read()\n",
    "        html = byte.decode(cchardet.detect(byte)['encoding'])\n",
    "        # スクレイピング関数を適応\n",
    "        text, title = scrape(html)\n",
    "        print('[title]: ', title)\n",
    "        print('[text]:  ', text[:300])"
   ]
  }
 ],
 "metadata": {
  "kernelspec": {
   "display_name": "Python 3",
   "language": "python",
   "name": "python3"
  },
  "language_info": {
   "codemirror_mode": {
    "name": "ipython",
    "version": 3
   },
   "file_extension": ".py",
   "mimetype": "text/x-python",
   "name": "python",
   "nbconvert_exporter": "python",
   "pygments_lexer": "ipython3",
   "version": "3.6.8"
  }
 },
 "nbformat": 4,
 "nbformat_minor": 4
}
