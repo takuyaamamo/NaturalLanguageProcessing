{
 "cells": [
  {
   "cell_type": "markdown",
   "metadata": {},
   "source": [
    "### ルールベースでクラスタリングを行う。"
   ]
  },
  {
   "cell_type": "code",
   "execution_count": 1,
   "metadata": {},
   "outputs": [],
   "source": [
    "# 有名がある時Trueを返す。\n",
    "def contain_yumei(tokens):\n",
    "    for token in tokens:\n",
    "        if token['lemma'] == '有名':\n",
    "            return True\n",
    "    return False\n",
    "\n",
    "# 地名を含んでいる時Trueを返す\n",
    "def contain_LOC(tokens):\n",
    "    for token in tokens:\n",
    "        # getメソッドは、第一引数の'NE'がdictにあれば値を返し、なければデフォルトでNone、指定されていれば第2引数の値を返す。\n",
    "        # endswithメソッドは、文字列が指定した引数の検索する文字列で終わっていればtrueを返し、そうでない場合はfalseを返す。\n",
    "        if token.get('NE', '').endswith('LOCATION'):\n",
    "            return True\n",
    "    return False\n",
    "\n",
    "# おいしいがある時Trueを返す。\n",
    "def contain_oishii(tokens):\n",
    "    for token in tokens:\n",
    "        if token['lemma'] == 'おいしい':\n",
    "            return True\n",
    "    return False\n",
    "\n",
    "# 上記3つのルールを組み合わせて分析結果を簡単に返す\n",
    "def meibutsu_rule(feature):\n",
    "    # 有名と地名が両方ある時\n",
    "    if feature['contain_yumei'] and feature['contain_LOC']:\n",
    "        return 1\n",
    "    # 美味しいがある時\n",
    "    if feature['contain_oishii']:\n",
    "        return 1\n",
    "    return 0\n",
    "\n",
    "# 個別ルールと最終的な分類結果を判定するルールを返す関数\n",
    "def get_rule():\n",
    "    return {\n",
    "        'partial': {\n",
    "            'contain_yumei': contain_yumei,\n",
    "            'contain_LOC': contain_LOC,\n",
    "            'contain_oishii': contain_oishii,\n",
    "        },\n",
    "        'compound': meibutsu_rule\n",
    "    }\n",
    "\n",
    "# 引数で渡されたルールを文に適応させる\n",
    "def convert_into_features_using_rules(sentences, rule):\n",
    "    features = []\n",
    "    for doc_id, sent, tokens in sentences:\n",
    "        feature = {}\n",
    "        # items()でdictのkeyとvalue両方を取り出す\n",
    "        for name, func in rule['partial'].items():\n",
    "            feature[name] = func(tokens)\n",
    "        features.append(feature)\n",
    "    return features\n",
    "\n",
    "# 引数で渡された分類ルールを適応し、分類結果を返す\n",
    "def classify(features, rule):\n",
    "    return [rule['compound'](feature) for feature in features]"
   ]
  },
  {
   "cell_type": "markdown",
   "metadata": {},
   "source": [
    "### 上記ルールを利用し結果を表示してみる"
   ]
  },
  {
   "cell_type": "code",
   "execution_count": 2,
   "metadata": {},
   "outputs": [
    {
     "name": "stdout",
     "output_type": "stream",
     "text": [
      "[(1, {'begin': 0, 'end': 4}, [{'begin': 0, 'end': 4, 'lemma': 'ボリビア', 'POS': '名詞', 'POS2': '固有名詞', 'NE': 'B-LOCATION'}])]\n",
      "{'partial': {'contain_yumei': <function contain_yumei at 0x7fc5ac69c840>, 'contain_LOC': <function contain_LOC at 0x7fc5ac69c9d8>, 'contain_oishii': <function contain_oishii at 0x7fc5ac69ca60>}, 'compound': <function meibutsu_rule at 0x7fc5ac69cae8>}\n",
      "[{'contain_yumei': False, 'contain_LOC': True, 'contain_oishii': False}]\n",
      "[0]\n",
      "1 例えば、アンデス地方を特徴づける文化として世界的に有名なのはフォルクローレであるが、その曲調、使用する楽器などはボリビアとペルーでほぼ同じであり、これはアルゼンチン北西部とも共通する\n",
      "1 現在活躍する作家としては、エドムンド・パス・ソルダンや日系ボリビア人のペドロ・シモセが特に有名である\n",
      "1 ボリビア全体がフォルクローレの里と呼ばれるが、特にオルロとポトシが有名である\n",
      "1 ヨーグルトに相当する醗酵乳食品は他の国にも存在するが、ブルガリアのヨーグルトが日本のみならず世界的に有名になっている\n"
     ]
    }
   ],
   "source": [
    "import sys\n",
    "sys.path.append('./src')\n",
    "\n",
    "import solrindexer as indexer\n",
    "import sqlitedatastore as datastore\n",
    "from annoutil import find_xs_in_y\n",
    "\n",
    "if __name__ == '__main__':\n",
    "    datastore.connect()\n",
    "    # 文を2000件取り出す。name_sにsentenceを設定することで条件を設けずに文を呼び出している\n",
    "    results = indexer.search_annotation(fl_keyword_pairs=[('name_s', [['sentence']])], rows=2000)\n",
    "    sentences = []\n",
    "    for r in results['response']['docs']:\n",
    "        # 単語の始まりと終わりを取り出す\n",
    "        sent = datastore.get_annotation(r['doc_id_i'], 'sentence')[r['anno_id_i']]\n",
    "        # tokenを取り出す\n",
    "        tokens = find_xs_in_y(datastore.get_annotation(r['doc_id_i'], 'token'), sent)\n",
    "        sentences.append((r['doc_id_i'], sent, tokens))\n",
    "    print(sentences[:1])\n",
    "    \n",
    "    # ルール取得\n",
    "    rule = get_rule()\n",
    "    print(rule)\n",
    "    # 分類\n",
    "    # 個別ルールの判定結果をfeatures変数に格納\n",
    "    features = convert_into_features_using_rules(sentences, rule)\n",
    "    print(features[:1])\n",
    "    # meibutsu_rule関数で数値化\n",
    "    predicteds = classify(features, rule)\n",
    "    print(predicteds[:1])\n",
    "    for predicted, (doc_id, sent, tokens) in zip(predicteds, sentences):\n",
    "        if predicted == 1:\n",
    "            # doc_idから本文を取り出し\n",
    "            text = datastore.get(doc_id, ['content'])['content']\n",
    "            print(predicted, text[sent['begin']: sent['end']])\n",
    "    datastore.close()"
   ]
  }
 ],
 "metadata": {
  "kernelspec": {
   "display_name": "Python 3",
   "language": "python",
   "name": "python3"
  },
  "language_info": {
   "codemirror_mode": {
    "name": "ipython",
    "version": 3
   },
   "file_extension": ".py",
   "mimetype": "text/x-python",
   "name": "python",
   "nbconvert_exporter": "python",
   "pygments_lexer": "ipython3",
   "version": "3.6.8"
  }
 },
 "nbformat": 4,
 "nbformat_minor": 4
}
