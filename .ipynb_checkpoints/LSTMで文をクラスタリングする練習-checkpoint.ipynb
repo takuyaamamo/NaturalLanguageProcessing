{
 "cells": [
  {
   "cell_type": "code",
   "execution_count": 4,
   "metadata": {},
   "outputs": [
    {
     "name": "stdout",
     "output_type": "stream",
     "text": [
      "Collecting chainer\n",
      "  Downloading https://files.pythonhosted.org/packages/1d/59/aa63339001ca8e15ebb560d0c33333ef465c479e165d967e64c7611b6e67/chainer-6.5.0.tar.gz (876kB)\n",
      "\u001b[K    100% |████████████████████████████████| 880kB 1.0MB/s ta 0:00:01\n",
      "\u001b[?25hCollecting setuptools (from chainer)\n",
      "  Downloading https://files.pythonhosted.org/packages/d9/de/554b6310ac87c5b921bc45634b07b11394fe63bc4cb5176f5240addf18ab/setuptools-41.6.0-py2.py3-none-any.whl (582kB)\n",
      "\u001b[K    100% |████████████████████████████████| 583kB 242kB/s ta 0:00:01\n",
      "\u001b[?25hCollecting typing<=3.6.6 (from chainer)\n",
      "  Downloading https://files.pythonhosted.org/packages/4a/bd/eee1157fc2d8514970b345d69cb9975dcd1e42cd7e61146ed841f6e68309/typing-3.6.6-py3-none-any.whl\n",
      "Collecting typing_extensions<=3.6.6 (from chainer)\n",
      "  Downloading https://files.pythonhosted.org/packages/62/4f/392a1fa2873e646f5990eb6f956e662d8a235ab474450c72487745f67276/typing_extensions-3.6.6-py3-none-any.whl\n",
      "Collecting filelock (from chainer)\n",
      "  Downloading https://files.pythonhosted.org/packages/93/83/71a2ee6158bb9f39a90c0dea1637f81d5eef866e188e1971a1b1ab01a35a/filelock-3.0.12-py3-none-any.whl\n",
      "Collecting numpy>=1.9.0 (from chainer)\n",
      "  Using cached https://files.pythonhosted.org/packages/d2/ab/43e678759326f728de861edbef34b8e2ad1b1490505f20e0d1f0716c3bf4/numpy-1.17.4-cp36-cp36m-manylinux1_x86_64.whl\n",
      "Collecting protobuf>=3.0.0 (from chainer)\n",
      "  Downloading https://files.pythonhosted.org/packages/a8/52/d8d2dbff74b8bf517c42db8d44c3f9ef6555e6f5d6caddfa3f207b9143df/protobuf-3.10.0-cp36-cp36m-manylinux1_x86_64.whl (1.3MB)\n",
      "\u001b[K    100% |████████████████████████████████| 1.3MB 523kB/s ta 0:00:01\n",
      "\u001b[?25hCollecting six>=1.9.0 (from chainer)\n",
      "  Using cached https://files.pythonhosted.org/packages/65/26/32b8464df2a97e6dd1b656ed26b2c194606c16fe163c695a992b36c11cdf/six-1.13.0-py2.py3-none-any.whl\n",
      "Building wheels for collected packages: chainer\n",
      "  Running setup.py bdist_wheel for chainer ... \u001b[?25ldone\n",
      "\u001b[?25h  Stored in directory: /home/vagrant/.cache/pip/wheels/ab/75/65/cfb3a13ab05590ce2b915f5fd35cbfb7361cb6a2b20ee84944\n",
      "Successfully built chainer\n",
      "Installing collected packages: setuptools, typing, typing-extensions, filelock, numpy, six, protobuf, chainer\n",
      "Successfully installed chainer-6.5.0 filelock-3.0.12 numpy-1.17.4 protobuf-3.10.0 setuptools-41.6.0 six-1.13.0 typing-3.6.6 typing-extensions-3.6.6\n",
      "Cloning into 'chainer'...\n",
      "remote: Enumerating objects: 34, done.\u001b[K\n",
      "remote: Counting objects: 100% (34/34), done.\u001b[K\n",
      "remote: Compressing objects: 100% (34/34), done.\u001b[K\n",
      "fatal: Unable to create temporary file '/vagrant/NaturalLanguageProcessing/chainer/.git/objects/pack/tmp_pack_XXXXXX': Permission denied\n",
      "fatal: index-pack failed\n"
     ]
    }
   ],
   "source": [
    "# !sudo chmod 777 /usr/local/lib/python3.6/dist-packages/__pycache__/\n",
    "# !pip3 install chainer\n",
    "# !git clone https://github.com/chainer/chainer.git\n",
    "# !export PYTHONPATH=chainer/examples/text_classification/"
   ]
  },
  {
   "cell_type": "code",
   "execution_count": 5,
   "metadata": {},
   "outputs": [
    {
     "ename": "ModuleNotFoundError",
     "evalue": "No module named 'nets'",
     "output_type": "error",
     "traceback": [
      "\u001b[0;31m---------------------------------------------------------------------------\u001b[0m",
      "\u001b[0;31mModuleNotFoundError\u001b[0m                       Traceback (most recent call last)",
      "\u001b[0;32m<ipython-input-5-80322d852716>\u001b[0m in \u001b[0;36m<module>\u001b[0;34m\u001b[0m\n\u001b[1;32m      5\u001b[0m \u001b[0;32mfrom\u001b[0m \u001b[0mchainer\u001b[0m \u001b[0;32mimport\u001b[0m \u001b[0mtraining\u001b[0m\u001b[0;34m\u001b[0m\u001b[0;34m\u001b[0m\u001b[0m\n\u001b[1;32m      6\u001b[0m \u001b[0;32mfrom\u001b[0m \u001b[0mchainer\u001b[0m\u001b[0;34m.\u001b[0m\u001b[0mtraining\u001b[0m \u001b[0;32mimport\u001b[0m \u001b[0mextensions\u001b[0m\u001b[0;34m\u001b[0m\u001b[0;34m\u001b[0m\u001b[0m\n\u001b[0;32m----> 7\u001b[0;31m \u001b[0;32mimport\u001b[0m \u001b[0mnets\u001b[0m\u001b[0;34m\u001b[0m\u001b[0;34m\u001b[0m\u001b[0m\n\u001b[0m\u001b[1;32m      8\u001b[0m \u001b[0;32mfrom\u001b[0m \u001b[0mnlp_utils\u001b[0m \u001b[0;32mimport\u001b[0m \u001b[0mconvert_seq\u001b[0m\u001b[0;34m,\u001b[0m \u001b[0mtransform_to_array\u001b[0m\u001b[0;34m\u001b[0m\u001b[0;34m\u001b[0m\u001b[0m\n\u001b[1;32m      9\u001b[0m \u001b[0;34m\u001b[0m\u001b[0m\n",
      "\u001b[0;31mModuleNotFoundError\u001b[0m: No module named 'nets'"
     ]
    }
   ],
   "source": [
    "import chainer\n",
    "import chainer.function as F\n",
    "import chainer.links as L\n",
    "import numpy\n",
    "from chainer import training\n",
    "from chainer.training import extensions\n",
    "import nets\n",
    "from nlp_utils import convert_seq, transform_to_array\n",
    "\n",
    "# class Encoder(cahiner.Chain):\n",
    "#     def __init__(self, w):\n",
    "#         super(Encoder, self)"
   ]
  }
 ],
 "metadata": {
  "kernelspec": {
   "display_name": "Python 3",
   "language": "python",
   "name": "python3"
  },
  "language_info": {
   "codemirror_mode": {
    "name": "ipython",
    "version": 3
   },
   "file_extension": ".py",
   "mimetype": "text/x-python",
   "name": "python",
   "nbconvert_exporter": "python",
   "pygments_lexer": "ipython3",
   "version": "3.6.8"
  }
 },
 "nbformat": 4,
 "nbformat_minor": 4
}
