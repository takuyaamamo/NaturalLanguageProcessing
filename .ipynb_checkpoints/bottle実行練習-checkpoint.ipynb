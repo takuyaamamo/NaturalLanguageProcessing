{
 "cells": [
  {
   "cell_type": "markdown",
   "metadata": {},
   "source": [
    "### PythonのWebフレームワークであるbottleをインストールする\n",
    "Bottleはpythonで作られたWebフレームワークです。フレームワークにも関わらず１ファイルで構成されるというシンプルさが魅力的です。そのシンプルさ故にフルスタックフレームワークと比較すると機能的には限定的であり、機能の半分がルーティング機能という感じです。具体的にはセッションやORMの機能はBottle単体ではないために、他のライブラリやプラグインを導入して補う必要があります。"
   ]
  },
  {
   "cell_type": "code",
   "execution_count": 4,
   "metadata": {},
   "outputs": [
    {
     "name": "stdout",
     "output_type": "stream",
     "text": [
      "Collecting bottle\n",
      "  Using cached https://files.pythonhosted.org/packages/69/d1/efdd0a5584169cdf791d726264089ce5d96846a8978c44ac6e13ae234327/bottle-0.12.17-py3-none-any.whl\n",
      "Installing collected packages: bottle\n",
      "Successfully installed bottle-0.12.17\n"
     ]
    }
   ],
   "source": [
    "# !pip3 install bottle"
   ]
  },
  {
   "cell_type": "markdown",
   "metadata": {},
   "source": [
    "### Webアプリケーションを立ち上げる"
   ]
  },
  {
   "cell_type": "code",
   "execution_count": 1,
   "metadata": {},
   "outputs": [
    {
     "name": "stdout",
     "output_type": "stream",
     "text": [
      "<div id=\"hello\">\n",
      "  あなたの名前: <input type=\"text\" v-model=\"namae\"/><br/>\n",
      "  <button v-on:click=\"run\">Hello</button>\n",
      "  <div>{{ result }}</div>\n",
      "</div>\n",
      "<br/>\n",
      "\n",
      "<script src=\"https://unpkg.com/vue\"></script>\n",
      "<script src=\"https://cdn.jsdelivr.net/npm/vue-resource@1.3.4\"></script>\n",
      "<script src=\"/file/practice.js\"></script>"
     ]
    }
   ],
   "source": [
    "!cat ./data/static/practice.html"
   ]
  },
  {
   "cell_type": "code",
   "execution_count": null,
   "metadata": {},
   "outputs": [
    {
     "name": "stderr",
     "output_type": "stream",
     "text": [
      "Bottle v0.12.17 server starting up (using WSGIRefServer())...\n",
      "Listening on http://0.0.0.0:8702/\n",
      "Hit Ctrl-C to quit.\n",
      "\n",
      "127.0.0.1 - - [18/Sep/2019 02:58:42] \"GET / HTTP/1.1\" 200 322\n",
      "127.0.0.1 - - [18/Sep/2019 02:58:42] \"GET /file/practice.js HTTP/1.1\" 200 447\n",
      "127.0.0.1 - - [18/Sep/2019 02:58:43] \"GET / HTTP/1.1\" 304 0\n"
     ]
    }
   ],
   "source": [
    "import json\n",
    "\n",
    "import bottle\n",
    "\n",
    "# bottleのフレームワークはルーティングを1ファイル内ですべて完結できる\n",
    "# 下記@bottle.route('/')内はホームルートで有ることを表す\n",
    "@bottle.route('/')\n",
    "def index_html():\n",
    "    # ルート（http://localhost:8702）にアクセスした時に表示数rファイルをpractice.htmlと指定している。\n",
    "    # rootにはフォルダまでを記述、ファイル名は第1引数に記述\n",
    "    return bottle.static_file('practice.html', root='./data/static')\n",
    "\n",
    "\n",
    "@bottle.route('/file/<filename:path>')\n",
    "def static(filename):\n",
    "    # file(http://localhost:8702/file/)にアクセスした時に、data/staticフォルダの下のファイルを返す用にしている。\n",
    "    return bottle.static_file(filename, root='./data/static')\n",
    "\n",
    "# 下記はhttp://localhost:8702/getにアクセスした時に実行される\n",
    "@bottle.get('/get')\n",
    "def get():\n",
    "    # リクエストの中からnamaeという変数を受け取る\n",
    "    namae = bottle.request.params.namae\n",
    "    # namae変数を'Hello world'文字列の後ろに追加してjsonデータを返す\n",
    "    return json.dumps({\n",
    "        'greet': 'Hello World, {0}!'.format(namae)\n",
    "    }, ensure_ascii=False)\n",
    "\n",
    "\n",
    "if __name__ == '__main__':\n",
    "# ポート番号を決めhttp://localhost:8702でアクセスできるようにしている\n",
    "    bottle.run(host='0.0.0.0', port='8702')"
   ]
  },
  {
   "cell_type": "code",
   "execution_count": null,
   "metadata": {},
   "outputs": [],
   "source": []
  }
 ],
 "metadata": {
  "kernelspec": {
   "display_name": "Python 3",
   "language": "python",
   "name": "python3"
  },
  "language_info": {
   "codemirror_mode": {
    "name": "ipython",
    "version": 3
   },
   "file_extension": ".py",
   "mimetype": "text/x-python",
   "name": "python",
   "nbconvert_exporter": "python",
   "pygments_lexer": "ipython3",
   "version": "3.6.8"
  }
 },
 "nbformat": 4,
 "nbformat_minor": 4
}
