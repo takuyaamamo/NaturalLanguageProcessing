{
 "cells": [
  {
   "cell_type": "markdown",
   "metadata": {},
   "source": [
    "### bratを組み込んだbottleを記述"
   ]
  },
  {
   "cell_type": "code",
   "execution_count": null,
   "metadata": {},
   "outputs": [
    {
     "name": "stderr",
     "output_type": "stream",
     "text": [
      "Bottle v0.12.17 server starting up (using WSGIRefServer())...\n",
      "Listening on http://localhost:8702/\n",
      "Hit Ctrl-C to quit.\n",
      "\n"
     ]
    },
    {
     "name": "stdout",
     "output_type": "stream",
     "text": [
      "★\n"
     ]
    },
    {
     "name": "stderr",
     "output_type": "stream",
     "text": [
      "127.0.0.1 - - [18/Sep/2019 10:10:31] \"GET / HTTP/1.1\" 304 0\n",
      "127.0.0.1 - - [18/Sep/2019 10:10:31] \"GET /third/brat/client/lib/jquery.min.js HTTP/1.1\" 404 790\n",
      "127.0.0.1 - - [18/Sep/2019 10:10:31] \"GET /third/brat/client/lib/jquery.svg.min.js HTTP/1.1\" 404 798\n",
      "127.0.0.1 - - [18/Sep/2019 10:10:31] \"GET /third/brat/client/lib/jquery.svgdom.min.js HTTP/1.1\" 404 804\n",
      "127.0.0.1 - - [18/Sep/2019 10:10:31] \"GET /third/brat/client/src/configuration.js HTTP/1.1\" 404 796\n",
      "127.0.0.1 - - [18/Sep/2019 10:10:31] \"GET /third/brat/client/src/util.js HTTP/1.1\" 404 778\n",
      "127.0.0.1 - - [18/Sep/2019 10:10:31] \"GET /third/brat/client/src/annotation_log.js HTTP/1.1\" 404 798\n",
      "127.0.0.1 - - [18/Sep/2019 10:10:31] \"GET /third/brat/client/lib/webfont.js HTTP/1.1\" 404 784\n",
      "127.0.0.1 - - [18/Sep/2019 10:10:31] \"GET /third/brat/client/src/dispatcher.js HTTP/1.1\" 404 790\n",
      "127.0.0.1 - - [18/Sep/2019 10:10:31] \"GET /third/brat/client/src/url_monitor.js HTTP/1.1\" 404 792\n",
      "127.0.0.1 - - [18/Sep/2019 10:10:31] \"GET /third/brat/client/src/visualizer.js HTTP/1.1\" 404 790\n"
     ]
    },
    {
     "name": "stdout",
     "output_type": "stream",
     "text": [
      "★\n"
     ]
    },
    {
     "name": "stderr",
     "output_type": "stream",
     "text": [
      "127.0.0.1 - - [18/Sep/2019 10:10:54] \"GET / HTTP/1.1\" 304 0\n",
      "127.0.0.1 - - [18/Sep/2019 10:10:54] \"GET /third/brat/client/lib/jquery.min.js HTTP/1.1\" 404 790\n",
      "127.0.0.1 - - [18/Sep/2019 10:10:54] \"GET /third/brat/client/lib/jquery.svg.min.js HTTP/1.1\" 404 798\n",
      "127.0.0.1 - - [18/Sep/2019 10:10:54] \"GET /third/brat/client/lib/jquery.svgdom.min.js HTTP/1.1\" 404 804\n",
      "127.0.0.1 - - [18/Sep/2019 10:10:54] \"GET /third/brat/client/src/configuration.js HTTP/1.1\" 404 796\n",
      "127.0.0.1 - - [18/Sep/2019 10:10:54] \"GET /third/brat/client/src/util.js HTTP/1.1\" 404 778\n",
      "127.0.0.1 - - [18/Sep/2019 10:10:54] \"GET /third/brat/client/src/annotation_log.js HTTP/1.1\" 404 798\n",
      "127.0.0.1 - - [18/Sep/2019 10:10:54] \"GET /third/brat/client/lib/webfont.js HTTP/1.1\" 404 784\n",
      "127.0.0.1 - - [18/Sep/2019 10:10:54] \"GET /third/brat/client/src/dispatcher.js HTTP/1.1\" 404 790\n",
      "127.0.0.1 - - [18/Sep/2019 10:10:54] \"GET /third/brat/client/src/url_monitor.js HTTP/1.1\" 404 792\n",
      "127.0.0.1 - - [18/Sep/2019 10:10:54] \"GET /third/brat/client/src/visualizer.js HTTP/1.1\" 404 790\n"
     ]
    },
    {
     "name": "stdout",
     "output_type": "stream",
     "text": [
      "★\n"
     ]
    },
    {
     "name": "stderr",
     "output_type": "stream",
     "text": [
      "127.0.0.1 - - [18/Sep/2019 10:12:35] \"GET / HTTP/1.1\" 304 0\n",
      "127.0.0.1 - - [18/Sep/2019 10:12:35] \"GET /third/brat/client/lib/jquery.min.js HTTP/1.1\" 404 790\n",
      "127.0.0.1 - - [18/Sep/2019 10:12:35] \"GET /third/brat/client/lib/jquery.svg.min.js HTTP/1.1\" 404 798\n",
      "127.0.0.1 - - [18/Sep/2019 10:12:35] \"GET /third/brat/client/lib/jquery.svgdom.min.js HTTP/1.1\" 404 804\n",
      "127.0.0.1 - - [18/Sep/2019 10:12:35] \"GET /third/brat/client/src/configuration.js HTTP/1.1\" 404 796\n",
      "127.0.0.1 - - [18/Sep/2019 10:12:35] \"GET /third/brat/client/src/util.js HTTP/1.1\" 404 778\n",
      "127.0.0.1 - - [18/Sep/2019 10:12:35] \"GET /third/brat/client/src/annotation_log.js HTTP/1.1\" 404 798\n",
      "127.0.0.1 - - [18/Sep/2019 10:12:36] \"GET /third/brat/client/lib/webfont.js HTTP/1.1\" 404 784\n",
      "127.0.0.1 - - [18/Sep/2019 10:12:36] \"GET /third/brat/client/src/dispatcher.js HTTP/1.1\" 404 790\n",
      "127.0.0.1 - - [18/Sep/2019 10:12:36] \"GET /third/brat/client/src/url_monitor.js HTTP/1.1\" 404 792\n",
      "127.0.0.1 - - [18/Sep/2019 10:12:36] \"GET /third/brat/client/src/visualizer.js HTTP/1.1\" 404 790\n"
     ]
    }
   ],
   "source": [
    "import json\n",
    "import bottle\n",
    "\n",
    "@bottle.route('/')\n",
    "def index_html():\n",
    "    print(\"★\")\n",
    "    return bottle.static_file('bratpractice.html', root='./data/static')\n",
    "\n",
    "\n",
    "@bottle.route('/file/<filename:path>')\n",
    "def static(filename):\n",
    "    return bottle.static_file(filename, root='./data/static')\n",
    "\n",
    "# get関数は固定のデータ構造を返す\n",
    "@bottle.get('/get')\n",
    "def get():\n",
    "    # dataの構造はbratで解釈できるデータ構造となっている\n",
    "    # bratのJavaScriptライブラリの仕様で記述している\n",
    "    data = {\n",
    "        # collectionでアノテーションの定義を行う\n",
    "        'collection': {\n",
    "            # アノテーションの名前や表示摺るときの色を指定している\n",
    "            'entity_types': [\n",
    "                {\n",
    "                    'type': 'Person',\n",
    "                    'bgColor': '#7fa2ff',\n",
    "                    'borderColor': 'darken'\n",
    "                }\n",
    "            ],\n",
    "        },\n",
    "        # annotationで本文と、それぞれのアノテーションのデータを指定している。\n",
    "        'annotation': {\n",
    "            'text': \"Ed O'Kelley was the man who shot the man who shot Jesse James.\",\n",
    "            # entitiesは単一のテキスト範囲のアノテーション\n",
    "            'entities': [\n",
    "                [\n",
    "                    'T1',\n",
    "                    'Person',\n",
    "                    [[0, 11]]\n",
    "                ],\n",
    "                [\n",
    "                    'T2',\n",
    "                    'Person',\n",
    "                    [[20, 23]]\n",
    "                ],\n",
    "                [\n",
    "                    'T3',\n",
    "                    'Person',\n",
    "                    [[37, 40]]\n",
    "                ],\n",
    "                [\n",
    "                    'T4',\n",
    "                    'Person',\n",
    "                    [[50, 61]]\n",
    "                ]\n",
    "            ],\n",
    "            # relationsはentities間の関係を表すアノテーション\n",
    "            'relations': [\n",
    "                [\n",
    "                    'R1',\n",
    "                    'Anaphora',\n",
    "                    [['Anaphor', 'T2'], ['Entity', 'T1']]\n",
    "                ]\n",
    "            ],\n",
    "        },\n",
    "    }\n",
    "    return json.dumps(data, ensure_ascii=False)\n",
    "\n",
    "\n",
    "bottle.run(host='localhost', port='8702')"
   ]
  }
 ],
 "metadata": {
  "kernelspec": {
   "display_name": "Python 3",
   "language": "python",
   "name": "python3"
  },
  "language_info": {
   "codemirror_mode": {
    "name": "ipython",
    "version": 3
   },
   "file_extension": ".py",
   "mimetype": "text/x-python",
   "name": "python",
   "nbconvert_exporter": "python",
   "pygments_lexer": "ipython3",
   "version": "3.6.8"
  }
 },
 "nbformat": 4,
 "nbformat_minor": 4
}
