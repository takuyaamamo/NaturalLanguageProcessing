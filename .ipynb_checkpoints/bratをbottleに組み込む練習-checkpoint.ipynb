{
 "cells": [
  {
   "cell_type": "markdown",
   "metadata": {},
   "source": [
    "### bratを組み込んだbottleを記述"
   ]
  },
  {
   "cell_type": "code",
   "execution_count": null,
   "metadata": {},
   "outputs": [
    {
     "name": "stderr",
     "output_type": "stream",
     "text": [
      "Bottle v0.12.17 server starting up (using WSGIRefServer())...\n",
      "Listening on http://localhost:8702/\n",
      "Hit Ctrl-C to quit.\n",
      "\n"
     ]
    },
    {
     "name": "stdout",
     "output_type": "stream",
     "text": [
      "★\n"
     ]
    },
    {
     "name": "stderr",
     "output_type": "stream",
     "text": [
      "127.0.0.1 - - [18/Sep/2019 03:45:39] \"GET / HTTP/1.1\" 304 0\n"
     ]
    },
    {
     "name": "stdout",
     "output_type": "stream",
     "text": [
      "★\n"
     ]
    },
    {
     "name": "stderr",
     "output_type": "stream",
     "text": [
      "127.0.0.1 - - [18/Sep/2019 03:50:50] \"GET / HTTP/1.1\" 200 426\n",
      "127.0.0.1 - - [18/Sep/2019 03:50:50] \"GET /third/brat/style-vis.css HTTP/1.1\" 404 768\n",
      "127.0.0.1 - - [18/Sep/2019 03:50:50] \"GET /third/brat/client/lib/head.load.min.js HTTP/1.1\" 404 796\n",
      "127.0.0.1 - - [18/Sep/2019 03:50:50] \"GET /bratpractice.js HTTP/1.1\" 404 750\n",
      "127.0.0.1 - - [18/Sep/2019 03:50:50] \"GET /bratpractice.js HTTP/1.1\" 404 750\n"
     ]
    },
    {
     "name": "stdout",
     "output_type": "stream",
     "text": [
      "★\n"
     ]
    },
    {
     "name": "stderr",
     "output_type": "stream",
     "text": [
      "127.0.0.1 - - [18/Sep/2019 03:50:51] \"GET / HTTP/1.1\" 304 0\n",
      "127.0.0.1 - - [18/Sep/2019 03:50:51] \"GET /third/brat/style-vis.css HTTP/1.1\" 404 768\n",
      "127.0.0.1 - - [18/Sep/2019 03:50:51] \"GET /third/brat/client/lib/head.load.min.js HTTP/1.1\" 404 796\n",
      "127.0.0.1 - - [18/Sep/2019 03:50:51] \"GET /bratpractice.js HTTP/1.1\" 404 750\n",
      "127.0.0.1 - - [18/Sep/2019 03:50:51] \"GET /bratpractice.js HTTP/1.1\" 404 750\n"
     ]
    }
   ],
   "source": [
    "import json\n",
    "import bottle\n",
    "\n",
    "@bottle.route('/')\n",
    "def index_html():\n",
    "    print(\"★\")\n",
    "    return bottle.static_file('bratpractice.html', root='./data/static')\n",
    "\n",
    "\n",
    "@bottle.route('/file/<filename:path>')\n",
    "def static(filename):\n",
    "    return bottle.static_file(filename, root='./data/static')\n",
    "\n",
    "\n",
    "@bottle.get('/get')\n",
    "def get():\n",
    "    data = {\n",
    "        'collection': {\n",
    "            'entity_types': [\n",
    "                {\n",
    "                    'type': 'Person',\n",
    "                    'bgColor': '#7fa2ff',\n",
    "                    'borderColor': 'darken'\n",
    "                }\n",
    "            ],\n",
    "        },\n",
    "        'annotation': {\n",
    "            'text': \"Ed O'Kelley was the man who shot the man who shot Jesse James.\",\n",
    "            'entities': [\n",
    "                [\n",
    "                    'T1',\n",
    "                    'Person',\n",
    "                    [[0, 11]]\n",
    "                ],\n",
    "                [\n",
    "                    'T2',\n",
    "                    'Person',\n",
    "                    [[20, 23]]\n",
    "                ],\n",
    "                [\n",
    "                    'T3',\n",
    "                    'Person',\n",
    "                    [[37, 40]]\n",
    "                ],\n",
    "                [\n",
    "                    'T4',\n",
    "                    'Person',\n",
    "                    [[50, 61]]\n",
    "                ]\n",
    "            ],\n",
    "            'relations': [\n",
    "                [\n",
    "                    'R1',\n",
    "                    'Anaphora',\n",
    "                    [['Anaphor', 'T2'], ['Entity', 'T1']]\n",
    "                ]\n",
    "            ],\n",
    "        },\n",
    "    }\n",
    "    return json.dumps(data, ensure_ascii=False)\n",
    "\n",
    "\n",
    "bottle.run(host='localhost', port='8702')"
   ]
  }
 ],
 "metadata": {
  "kernelspec": {
   "display_name": "Python 3",
   "language": "python",
   "name": "python3"
  },
  "language_info": {
   "codemirror_mode": {
    "name": "ipython",
    "version": 3
   },
   "file_extension": ".py",
   "mimetype": "text/x-python",
   "name": "python",
   "nbconvert_exporter": "python",
   "pygments_lexer": "ipython3",
   "version": "3.6.8"
  }
 },
 "nbformat": 4,
 "nbformat_minor": 4
}
