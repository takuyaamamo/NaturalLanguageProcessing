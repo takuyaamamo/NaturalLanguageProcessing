{
 "cells": [
  {
   "cell_type": "markdown",
   "metadata": {},
   "source": [
    "### bratを組み込んだbottleを記述"
   ]
  },
  {
   "cell_type": "code",
   "execution_count": null,
   "metadata": {},
   "outputs": [
    {
     "name": "stderr",
     "output_type": "stream",
     "text": [
      "Bottle v0.12.17 server starting up (using WSGIRefServer())...\n",
      "Listening on http://localhost:8702/\n",
      "Hit Ctrl-C to quit.\n",
      "\n"
     ]
    },
    {
     "name": "stdout",
     "output_type": "stream",
     "text": [
      "★\n"
     ]
    },
    {
     "name": "stderr",
     "output_type": "stream",
     "text": [
      "127.0.0.1 - - [18/Sep/2019 10:18:15] \"GET / HTTP/1.1\" 304 0\n",
      "127.0.0.1 - - [18/Sep/2019 10:18:15] \"GET /third/brat/client/lib/jquery.min.js HTTP/1.1\" 404 790\n",
      "127.0.0.1 - - [18/Sep/2019 10:18:15] \"GET /third/brat/client/lib/jquery.svg.min.js HTTP/1.1\" 404 798\n",
      "127.0.0.1 - - [18/Sep/2019 10:18:15] \"GET /third/brat/client/lib/jquery.svgdom.min.js HTTP/1.1\" 404 804\n",
      "127.0.0.1 - - [18/Sep/2019 10:18:15] \"GET /third/brat/client/src/configuration.js HTTP/1.1\" 404 796\n",
      "127.0.0.1 - - [18/Sep/2019 10:18:15] \"GET /third/brat/client/src/util.js HTTP/1.1\" 404 778\n",
      "127.0.0.1 - - [18/Sep/2019 10:18:15] \"GET /third/brat/client/src/annotation_log.js HTTP/1.1\" 404 798\n",
      "127.0.0.1 - - [18/Sep/2019 10:18:15] \"GET /third/brat/client/lib/webfont.js HTTP/1.1\" 404 784\n",
      "127.0.0.1 - - [18/Sep/2019 10:18:15] \"GET /third/brat/client/src/dispatcher.js HTTP/1.1\" 404 790\n",
      "127.0.0.1 - - [18/Sep/2019 10:18:15] \"GET /third/brat/client/src/url_monitor.js HTTP/1.1\" 404 792\n",
      "127.0.0.1 - - [18/Sep/2019 10:18:15] \"GET /third/brat/client/src/visualizer.js HTTP/1.1\" 404 790\n"
     ]
    },
    {
     "name": "stdout",
     "output_type": "stream",
     "text": [
      "★\n"
     ]
    },
    {
     "name": "stderr",
     "output_type": "stream",
     "text": [
      "127.0.0.1 - - [18/Sep/2019 10:19:20] \"GET / HTTP/1.1\" 304 0\n",
      "127.0.0.1 - - [18/Sep/2019 10:19:20] \"GET /third/brat/client/lib/jquery.min.js HTTP/1.1\" 404 790\n",
      "127.0.0.1 - - [18/Sep/2019 10:19:20] \"GET /third/brat/client/lib/jquery.svg.min.js HTTP/1.1\" 404 798\n",
      "127.0.0.1 - - [18/Sep/2019 10:19:20] \"GET /third/brat/client/lib/jquery.svgdom.min.js HTTP/1.1\" 404 804\n",
      "127.0.0.1 - - [18/Sep/2019 10:19:20] \"GET /third/brat/client/src/configuration.js HTTP/1.1\" 404 796\n",
      "127.0.0.1 - - [18/Sep/2019 10:19:20] \"GET /third/brat/client/src/util.js HTTP/1.1\" 404 778\n",
      "127.0.0.1 - - [18/Sep/2019 10:19:20] \"GET /third/brat/client/src/annotation_log.js HTTP/1.1\" 404 798\n",
      "127.0.0.1 - - [18/Sep/2019 10:19:20] \"GET /third/brat/client/lib/webfont.js HTTP/1.1\" 404 784\n",
      "127.0.0.1 - - [18/Sep/2019 10:19:20] \"GET /third/brat/client/src/dispatcher.js HTTP/1.1\" 404 790\n",
      "127.0.0.1 - - [18/Sep/2019 10:19:20] \"GET /third/brat/client/src/url_monitor.js HTTP/1.1\" 404 792\n",
      "127.0.0.1 - - [18/Sep/2019 10:19:20] \"GET /third/brat/client/src/visualizer.js HTTP/1.1\" 404 790\n"
     ]
    },
    {
     "name": "stdout",
     "output_type": "stream",
     "text": [
      "★\n"
     ]
    },
    {
     "name": "stderr",
     "output_type": "stream",
     "text": [
      "127.0.0.1 - - [18/Sep/2019 10:19:40] \"GET / HTTP/1.1\" 304 0\n",
      "127.0.0.1 - - [18/Sep/2019 10:19:40] \"GET /third/brat/client/lib/jquery.min.js HTTP/1.1\" 404 790\n",
      "127.0.0.1 - - [18/Sep/2019 10:19:40] \"GET /third/brat/client/lib/jquery.svg.min.js HTTP/1.1\" 404 798\n",
      "127.0.0.1 - - [18/Sep/2019 10:19:40] \"GET /third/brat/client/lib/jquery.svgdom.min.js HTTP/1.1\" 404 804\n",
      "127.0.0.1 - - [18/Sep/2019 10:19:40] \"GET /third/brat/client/src/configuration.js HTTP/1.1\" 404 796\n",
      "127.0.0.1 - - [18/Sep/2019 10:19:40] \"GET /third/brat/client/src/util.js HTTP/1.1\" 404 778\n",
      "127.0.0.1 - - [18/Sep/2019 10:19:40] \"GET /third/brat/client/src/annotation_log.js HTTP/1.1\" 404 798\n",
      "127.0.0.1 - - [18/Sep/2019 10:19:40] \"GET /third/brat/client/lib/webfont.js HTTP/1.1\" 404 784\n",
      "127.0.0.1 - - [18/Sep/2019 10:19:40] \"GET /third/brat/client/src/dispatcher.js HTTP/1.1\" 404 790\n",
      "127.0.0.1 - - [18/Sep/2019 10:19:40] \"GET /third/brat/client/src/url_monitor.js HTTP/1.1\" 404 792\n",
      "127.0.0.1 - - [18/Sep/2019 10:19:40] \"GET /third/brat/client/src/visualizer.js HTTP/1.1\" 404 790\n"
     ]
    },
    {
     "name": "stdout",
     "output_type": "stream",
     "text": [
      "★\n"
     ]
    },
    {
     "name": "stderr",
     "output_type": "stream",
     "text": [
      "127.0.0.1 - - [18/Sep/2019 10:20:11] \"GET / HTTP/1.1\" 304 0\n",
      "127.0.0.1 - - [18/Sep/2019 10:20:11] \"GET /third/brat/client/lib/jquery.min.js HTTP/1.1\" 404 790\n",
      "127.0.0.1 - - [18/Sep/2019 10:20:11] \"GET /third/brat/client/lib/jquery.svg.min.js HTTP/1.1\" 404 798\n",
      "127.0.0.1 - - [18/Sep/2019 10:20:11] \"GET /third/brat/client/lib/jquery.svgdom.min.js HTTP/1.1\" 404 804\n",
      "127.0.0.1 - - [18/Sep/2019 10:20:11] \"GET /third/brat/client/src/configuration.js HTTP/1.1\" 404 796\n",
      "127.0.0.1 - - [18/Sep/2019 10:20:11] \"GET /third/brat/client/src/util.js HTTP/1.1\" 404 778\n",
      "127.0.0.1 - - [18/Sep/2019 10:20:11] \"GET /third/brat/client/src/annotation_log.js HTTP/1.1\" 404 798\n",
      "127.0.0.1 - - [18/Sep/2019 10:20:11] \"GET /third/brat/client/lib/webfont.js HTTP/1.1\" 404 784\n",
      "127.0.0.1 - - [18/Sep/2019 10:20:11] \"GET /third/brat/client/src/dispatcher.js HTTP/1.1\" 404 790\n",
      "127.0.0.1 - - [18/Sep/2019 10:20:11] \"GET /third/brat/client/src/url_monitor.js HTTP/1.1\" 404 792\n",
      "127.0.0.1 - - [18/Sep/2019 10:20:11] \"GET /third/brat/client/src/visualizer.js HTTP/1.1\" 404 790\n"
     ]
    },
    {
     "name": "stdout",
     "output_type": "stream",
     "text": [
      "★\n"
     ]
    },
    {
     "name": "stderr",
     "output_type": "stream",
     "text": [
      "127.0.0.1 - - [18/Sep/2019 10:20:14] \"GET / HTTP/1.1\" 200 440\n",
      "127.0.0.1 - - [18/Sep/2019 10:20:14] \"GET /file/third/brat/style-vis.css HTTP/1.1\" 200 9382\n",
      "127.0.0.1 - - [18/Sep/2019 10:20:14] \"GET /file/third/brat/client/lib/head.load.min.js HTTP/1.1\" 200 3102\n",
      "127.0.0.1 - - [18/Sep/2019 10:20:14] \"GET /file/bratpractice.js HTTP/1.1\" 200 1195\n",
      "127.0.0.1 - - [18/Sep/2019 10:20:14] \"GET /file/static/third/brat/client/lib/jquery.svgdom.min.js HTTP/1.1\" 404 770\n",
      "127.0.0.1 - - [18/Sep/2019 10:20:14] \"GET /file/static/third/brat/client/lib/jquery.min.js HTTP/1.1\" 404 763\n",
      "127.0.0.1 - - [18/Sep/2019 10:20:14] \"GET /file/static/third/brat/client/lib/jquery.svg.min.js HTTP/1.1\" 404 767\n",
      "127.0.0.1 - - [18/Sep/2019 10:20:14] \"GET /file/static/third/brat/client/src/configuration.js HTTP/1.1\" 404 766\n",
      "127.0.0.1 - - [18/Sep/2019 10:20:14] \"GET /file/static/third/brat/client/src/util.js HTTP/1.1\" 404 757\n",
      "127.0.0.1 - - [18/Sep/2019 10:20:14] \"GET /file/static/third/brat/client/src/annotation_log.js HTTP/1.1\" 404 767\n",
      "127.0.0.1 - - [18/Sep/2019 10:20:14] \"GET /file/static/third/brat/client/lib/webfont.js HTTP/1.1\" 404 760\n",
      "127.0.0.1 - - [18/Sep/2019 10:20:14] \"GET /file/static/third/brat/client/src/dispatcher.js HTTP/1.1\" 404 763\n",
      "127.0.0.1 - - [18/Sep/2019 10:20:15] \"GET /file/static/third/brat/client/src/url_monitor.js HTTP/1.1\" 404 764\n",
      "127.0.0.1 - - [18/Sep/2019 10:20:15] \"GET /file/static/third/brat/client/src/visualizer.js HTTP/1.1\" 404 763\n",
      "127.0.0.1 - - [18/Sep/2019 10:20:15] \"GET /favicon.ico HTTP/1.1\" 404 742\n"
     ]
    },
    {
     "name": "stdout",
     "output_type": "stream",
     "text": [
      "★\n"
     ]
    },
    {
     "name": "stderr",
     "output_type": "stream",
     "text": [
      "127.0.0.1 - - [18/Sep/2019 10:20:39] \"GET / HTTP/1.1\" 200 440\n",
      "127.0.0.1 - - [18/Sep/2019 10:20:39] \"GET /file/third/brat/style-vis.css HTTP/1.1\" 200 9382\n",
      "127.0.0.1 - - [18/Sep/2019 10:20:39] \"GET /file/third/brat/client/lib/head.load.min.js HTTP/1.1\" 200 3102\n",
      "127.0.0.1 - - [18/Sep/2019 10:20:39] \"GET /file/bratpractice.js HTTP/1.1\" 200 1187\n",
      "127.0.0.1 - - [18/Sep/2019 10:20:40] \"GET /file/third/brat/client/lib/jquery.min.js HTTP/1.1\" 404 756\n",
      "127.0.0.1 - - [18/Sep/2019 10:20:40] \"GET /file/third/brat/client/lib/jquery.svg.min.js HTTP/1.1\" 200 19316\n",
      "127.0.0.1 - - [18/Sep/2019 10:20:40] \"GET /file/third/brat/client/lib/jquery.svgdom.min.js HTTP/1.1\" 200 4645\n",
      "127.0.0.1 - - [18/Sep/2019 10:20:40] \"GET /file/third/brat/client/src/configuration.js HTTP/1.1\" 200 791\n",
      "127.0.0.1 - - [18/Sep/2019 10:20:40] \"GET /file/third/brat/client/src/util.js HTTP/1.1\" 200 21224\n",
      "127.0.0.1 - - [18/Sep/2019 10:20:40] \"GET /file/third/brat/client/src/annotation_log.js HTTP/1.1\" 200 1291\n",
      "127.0.0.1 - - [18/Sep/2019 10:20:40] \"GET /file/third/brat/client/lib/webfont.js HTTP/1.1\" 200 17305\n",
      "127.0.0.1 - - [18/Sep/2019 10:20:40] \"GET /file/third/brat/client/src/dispatcher.js HTTP/1.1\" 200 3997\n",
      "127.0.0.1 - - [18/Sep/2019 10:20:40] \"GET /file/third/brat/client/src/url_monitor.js HTTP/1.1\" 200 7105\n",
      "127.0.0.1 - - [18/Sep/2019 10:20:40] \"GET /file/third/brat/client/src/visualizer.js HTTP/1.1\" 200 124591\n",
      "127.0.0.1 - - [18/Sep/2019 10:20:40] \"GET /favicon.ico HTTP/1.1\" 404 742\n"
     ]
    },
    {
     "name": "stdout",
     "output_type": "stream",
     "text": [
      "★\n"
     ]
    },
    {
     "name": "stderr",
     "output_type": "stream",
     "text": [
      "127.0.0.1 - - [18/Sep/2019 10:21:31] \"GET / HTTP/1.1\" 200 440\n",
      "127.0.0.1 - - [18/Sep/2019 10:21:31] \"GET /file/third/brat/style-vis.css HTTP/1.1\" 200 9382\n",
      "127.0.0.1 - - [18/Sep/2019 10:21:31] \"GET /file/third/brat/client/lib/head.load.min.js HTTP/1.1\" 200 3102\n",
      "127.0.0.1 - - [18/Sep/2019 10:21:31] \"GET /file/bratpractice.js HTTP/1.1\" 200 1193\n",
      "127.0.0.1 - - [18/Sep/2019 10:21:31] \"GET /file/third/brat/client/lib/jquery-1.7.1.min.js HTTP/1.1\" 200 93868\n",
      "127.0.0.1 - - [18/Sep/2019 10:21:31] \"GET /file/third/brat/client/lib/jquery.svg.min.js HTTP/1.1\" 200 19316\n",
      "127.0.0.1 - - [18/Sep/2019 10:21:31] \"GET /file/third/brat/client/lib/jquery.svgdom.min.js HTTP/1.1\" 200 4645\n",
      "127.0.0.1 - - [18/Sep/2019 10:21:31] \"GET /file/third/brat/client/src/configuration.js HTTP/1.1\" 200 791\n",
      "127.0.0.1 - - [18/Sep/2019 10:21:31] \"GET /file/third/brat/client/src/util.js HTTP/1.1\" 200 21224\n",
      "127.0.0.1 - - [18/Sep/2019 10:21:31] \"GET /file/third/brat/client/src/annotation_log.js HTTP/1.1\" 200 1291\n",
      "127.0.0.1 - - [18/Sep/2019 10:21:31] \"GET /file/third/brat/client/lib/webfont.js HTTP/1.1\" 200 17305\n",
      "127.0.0.1 - - [18/Sep/2019 10:21:31] \"GET /file/third/brat/client/src/dispatcher.js HTTP/1.1\" 200 3997\n",
      "127.0.0.1 - - [18/Sep/2019 10:21:31] \"GET /file/third/brat/client/src/url_monitor.js HTTP/1.1\" 200 7105\n",
      "127.0.0.1 - - [18/Sep/2019 10:21:31] \"GET /file/third/brat/client/src/visualizer.js HTTP/1.1\" 200 124591\n",
      "127.0.0.1 - - [18/Sep/2019 10:21:31] \"GET /file/third/brat/static/fonts/Liberation_Sans-Regular.ttf HTTP/1.1\" 404 772\n",
      "127.0.0.1 - - [18/Sep/2019 10:21:31] \"GET /favicon.ico HTTP/1.1\" 404 742\n"
     ]
    },
    {
     "name": "stdout",
     "output_type": "stream",
     "text": [
      "★\n"
     ]
    },
    {
     "name": "stderr",
     "output_type": "stream",
     "text": [
      "127.0.0.1 - - [18/Sep/2019 10:23:09] \"GET / HTTP/1.1\" 200 440\n",
      "127.0.0.1 - - [18/Sep/2019 10:23:09] \"GET /file/third/brat/style-vis.css HTTP/1.1\" 200 9382\n",
      "127.0.0.1 - - [18/Sep/2019 10:23:09] \"GET /file/third/brat/client/lib/head.load.min.js HTTP/1.1\" 200 3102\n",
      "127.0.0.1 - - [18/Sep/2019 10:23:09] \"GET /file/bratpractice.js HTTP/1.1\" 200 1242\n",
      "127.0.0.1 - - [18/Sep/2019 10:23:09] \"GET /file/third/brat/client/lib/jquery-1.7.1.min.js HTTP/1.1\" 200 93868\n",
      "127.0.0.1 - - [18/Sep/2019 10:23:09] \"GET /file/third/brat/client/lib/jquery.svg.min.js HTTP/1.1\" 200 19316\n",
      "127.0.0.1 - - [18/Sep/2019 10:23:09] \"GET /file/third/brat/client/lib/jquery.svgdom.min.js HTTP/1.1\" 200 4645\n",
      "127.0.0.1 - - [18/Sep/2019 10:23:09] \"GET /file/third/brat/client/lib/jquery-ui.min.js HTTP/1.1\" 200 210463\n",
      "127.0.0.1 - - [18/Sep/2019 10:23:09] \"GET /file/third/brat/client/src/configuration.js HTTP/1.1\" 200 791\n",
      "127.0.0.1 - - [18/Sep/2019 10:23:09] \"GET /file/third/brat/client/src/util.js HTTP/1.1\" 200 21224\n",
      "127.0.0.1 - - [18/Sep/2019 10:23:09] \"GET /file/third/brat/client/src/annotation_log.js HTTP/1.1\" 200 1291\n",
      "127.0.0.1 - - [18/Sep/2019 10:23:09] \"GET /file/third/brat/client/lib/webfont.js HTTP/1.1\" 200 17305\n",
      "127.0.0.1 - - [18/Sep/2019 10:23:09] \"GET /file/third/brat/client/src/dispatcher.js HTTP/1.1\" 200 3997\n",
      "127.0.0.1 - - [18/Sep/2019 10:23:09] \"GET /file/third/brat/client/src/url_monitor.js HTTP/1.1\" 200 7105\n",
      "127.0.0.1 - - [18/Sep/2019 10:23:09] \"GET /file/third/brat/client/src/visualizer.js HTTP/1.1\" 200 124591\n",
      "127.0.0.1 - - [18/Sep/2019 10:23:09] \"GET /file/third/brat/static/fonts/Liberation_Sans-Regular.ttf HTTP/1.1\" 404 772\n",
      "127.0.0.1 - - [18/Sep/2019 10:23:09] \"GET /favicon.ico HTTP/1.1\" 404 742\n",
      "127.0.0.1 - - [18/Sep/2019 10:23:40] \"GET /file/bratpractice.js HTTP/1.1\" 200 1245\n",
      "127.0.0.1 - - [18/Sep/2019 10:23:40] \"GET /file/third/brat/static/fonts/Liberation_Sans-Regular.ttf HTTP/1.1\" 404 772\n"
     ]
    },
    {
     "name": "stdout",
     "output_type": "stream",
     "text": [
      "★\n"
     ]
    },
    {
     "name": "stderr",
     "output_type": "stream",
     "text": [
      "127.0.0.1 - - [18/Sep/2019 10:23:43] \"GET / HTTP/1.1\" 200 440\n",
      "127.0.0.1 - - [18/Sep/2019 10:23:43] \"GET /file/third/brat/style-vis.css HTTP/1.1\" 200 9382\n",
      "127.0.0.1 - - [18/Sep/2019 10:23:43] \"GET /file/third/brat/client/lib/head.load.min.js HTTP/1.1\" 200 3102\n",
      "127.0.0.1 - - [18/Sep/2019 10:23:43] \"GET /file/bratpractice.js HTTP/1.1\" 200 1245\n",
      "127.0.0.1 - - [18/Sep/2019 10:23:43] \"GET /file/third/brat/client/lib/jquery-1.7.1.min.js HTTP/1.1\" 200 93868\n",
      "127.0.0.1 - - [18/Sep/2019 10:23:43] \"GET /file/third/brat/client/lib/jquery.svg.min.js HTTP/1.1\" 200 19316\n",
      "127.0.0.1 - - [18/Sep/2019 10:23:43] \"GET /file/third/brat/client/lib/jquery.svgdom.min.js HTTP/1.1\" 200 4645\n",
      "127.0.0.1 - - [18/Sep/2019 10:23:43] \"GET /file/third/brat/client/src/configuration.js HTTP/1.1\" 200 791\n",
      "127.0.0.1 - - [18/Sep/2019 10:23:43] \"GET /file/third/brat/client/src/util.js HTTP/1.1\" 200 21224\n",
      "127.0.0.1 - - [18/Sep/2019 10:23:43] \"GET /file/third/brat/client/src/annotation_log.js HTTP/1.1\" 200 1291\n",
      "127.0.0.1 - - [18/Sep/2019 10:23:43] \"GET /file/third/brat/client/lib/webfont.js HTTP/1.1\" 200 17305\n",
      "127.0.0.1 - - [18/Sep/2019 10:23:43] \"GET /file/third/brat/client/src/dispatcher.js HTTP/1.1\" 200 3997\n",
      "127.0.0.1 - - [18/Sep/2019 10:23:43] \"GET /file/third/brat/client/src/url_monitor.js HTTP/1.1\" 200 7105\n",
      "127.0.0.1 - - [18/Sep/2019 10:23:43] \"GET /file/third/brat/client/src/visualizer.js HTTP/1.1\" 200 124591\n",
      "127.0.0.1 - - [18/Sep/2019 10:23:43] \"GET /file/third/brat/static/fonts/Liberation_Sans-Regular.ttf HTTP/1.1\" 404 772\n",
      "127.0.0.1 - - [18/Sep/2019 10:23:43] \"GET /favicon.ico HTTP/1.1\" 404 742\n"
     ]
    },
    {
     "name": "stdout",
     "output_type": "stream",
     "text": [
      "★\n"
     ]
    },
    {
     "name": "stderr",
     "output_type": "stream",
     "text": [
      "127.0.0.1 - - [18/Sep/2019 10:24:00] \"GET / HTTP/1.1\" 200 440\n",
      "127.0.0.1 - - [18/Sep/2019 10:24:00] \"GET /file/third/brat/style-vis.css HTTP/1.1\" 200 9382\n",
      "127.0.0.1 - - [18/Sep/2019 10:24:00] \"GET /file/third/brat/client/lib/head.load.min.js HTTP/1.1\" 200 3102\n",
      "127.0.0.1 - - [18/Sep/2019 10:24:00] \"GET /file/bratpractice.js HTTP/1.1\" 200 1248\n",
      "127.0.0.1 - - [18/Sep/2019 10:24:00] \"GET /file/third/brat/client/lib/jquery.svg.min.js HTTP/1.1\" 200 19316\n",
      "127.0.0.1 - - [18/Sep/2019 10:24:00] \"GET /file/third/brat/client/lib/jquery.svgdom.min.js HTTP/1.1\" 200 4645\n",
      "127.0.0.1 - - [18/Sep/2019 10:24:00] \"GET /file/third/brat/client/src/configuration.js HTTP/1.1\" 200 791\n",
      "127.0.0.1 - - [18/Sep/2019 10:24:00] \"GET /file/third/brat/client/src/util.js HTTP/1.1\" 200 21224\n",
      "127.0.0.1 - - [18/Sep/2019 10:24:00] \"GET /file/third/brat/client/src/annotation_log.js HTTP/1.1\" 200 1291\n",
      "127.0.0.1 - - [18/Sep/2019 10:24:00] \"GET /file/third/brat/client/lib/webfont.js HTTP/1.1\" 200 17305\n",
      "127.0.0.1 - - [18/Sep/2019 10:24:00] \"GET /file/third/brat/client/src/dispatcher.js HTTP/1.1\" 200 3997\n",
      "127.0.0.1 - - [18/Sep/2019 10:24:00] \"GET /file/third/brat/client/src/url_monitor.js HTTP/1.1\" 200 7105\n",
      "127.0.0.1 - - [18/Sep/2019 10:24:00] \"GET /file/third/brat/client/src/visualizer.js HTTP/1.1\" 200 124591\n",
      "127.0.0.1 - - [18/Sep/2019 10:24:00] \"GET /favicon.ico HTTP/1.1\" 404 742\n"
     ]
    },
    {
     "name": "stdout",
     "output_type": "stream",
     "text": [
      "★\n"
     ]
    },
    {
     "name": "stderr",
     "output_type": "stream",
     "text": [
      "127.0.0.1 - - [18/Sep/2019 10:24:32] \"GET / HTTP/1.1\" 200 440\n",
      "127.0.0.1 - - [18/Sep/2019 10:24:32] \"GET /file/third/brat/style-vis.css HTTP/1.1\" 200 9382\n",
      "127.0.0.1 - - [18/Sep/2019 10:24:32] \"GET /file/third/brat/client/lib/head.load.min.js HTTP/1.1\" 200 3102\n",
      "127.0.0.1 - - [18/Sep/2019 10:24:32] \"GET /file/bratpractice.js HTTP/1.1\" 200 1193\n",
      "127.0.0.1 - - [18/Sep/2019 10:24:32] \"GET /file/third/brat/client/lib/jquery-1.7.1.min.js HTTP/1.1\" 200 93868\n",
      "127.0.0.1 - - [18/Sep/2019 10:24:32] \"GET /file/third/brat/client/lib/jquery.svg.min.js HTTP/1.1\" 200 19316\n",
      "127.0.0.1 - - [18/Sep/2019 10:24:32] \"GET /file/third/brat/client/lib/jquery.svgdom.min.js HTTP/1.1\" 200 4645\n",
      "127.0.0.1 - - [18/Sep/2019 10:24:32] \"GET /file/third/brat/client/src/configuration.js HTTP/1.1\" 200 791\n",
      "127.0.0.1 - - [18/Sep/2019 10:24:32] \"GET /file/third/brat/client/src/util.js HTTP/1.1\" 200 21224\n",
      "127.0.0.1 - - [18/Sep/2019 10:24:32] \"GET /file/third/brat/client/src/annotation_log.js HTTP/1.1\" 200 1291\n",
      "127.0.0.1 - - [18/Sep/2019 10:24:32] \"GET /file/third/brat/client/lib/webfont.js HTTP/1.1\" 200 17305\n",
      "127.0.0.1 - - [18/Sep/2019 10:24:32] \"GET /file/third/brat/client/src/dispatcher.js HTTP/1.1\" 200 3997\n",
      "127.0.0.1 - - [18/Sep/2019 10:24:32] \"GET /file/third/brat/client/src/url_monitor.js HTTP/1.1\" 200 7105\n",
      "127.0.0.1 - - [18/Sep/2019 10:24:32] \"GET /file/third/brat/client/src/visualizer.js HTTP/1.1\" 200 124591\n",
      "127.0.0.1 - - [18/Sep/2019 10:24:32] \"GET /file/third/brat/static/fonts/Liberation_Sans-Regular.ttf HTTP/1.1\" 404 772\n",
      "127.0.0.1 - - [18/Sep/2019 10:24:32] \"GET /favicon.ico HTTP/1.1\" 404 742\n"
     ]
    },
    {
     "name": "stdout",
     "output_type": "stream",
     "text": [
      "★\n"
     ]
    },
    {
     "name": "stderr",
     "output_type": "stream",
     "text": [
      "127.0.0.1 - - [18/Sep/2019 10:24:35] \"GET / HTTP/1.1\" 200 440\n",
      "127.0.0.1 - - [18/Sep/2019 10:24:35] \"GET /file/third/brat/style-vis.css HTTP/1.1\" 200 9382\n",
      "127.0.0.1 - - [18/Sep/2019 10:24:35] \"GET /file/third/brat/client/lib/head.load.min.js HTTP/1.1\" 200 3102\n",
      "127.0.0.1 - - [18/Sep/2019 10:24:35] \"GET /file/bratpractice.js HTTP/1.1\" 200 1193\n",
      "127.0.0.1 - - [18/Sep/2019 10:24:35] \"GET /file/third/brat/client/lib/jquery-1.7.1.min.js HTTP/1.1\" 200 93868\n",
      "127.0.0.1 - - [18/Sep/2019 10:24:35] \"GET /file/third/brat/client/lib/jquery.svg.min.js HTTP/1.1\" 200 19316\n",
      "127.0.0.1 - - [18/Sep/2019 10:24:35] \"GET /file/third/brat/client/lib/jquery.svgdom.min.js HTTP/1.1\" 200 4645\n",
      "127.0.0.1 - - [18/Sep/2019 10:24:35] \"GET /file/third/brat/client/src/configuration.js HTTP/1.1\" 200 791\n",
      "127.0.0.1 - - [18/Sep/2019 10:24:35] \"GET /file/third/brat/client/src/util.js HTTP/1.1\" 200 21224\n",
      "127.0.0.1 - - [18/Sep/2019 10:24:35] \"GET /file/third/brat/client/src/annotation_log.js HTTP/1.1\" 200 1291\n",
      "127.0.0.1 - - [18/Sep/2019 10:24:35] \"GET /file/third/brat/client/lib/webfont.js HTTP/1.1\" 200 17305\n",
      "127.0.0.1 - - [18/Sep/2019 10:24:35] \"GET /file/third/brat/client/src/dispatcher.js HTTP/1.1\" 200 3997\n",
      "127.0.0.1 - - [18/Sep/2019 10:24:35] \"GET /file/third/brat/client/src/url_monitor.js HTTP/1.1\" 200 7105\n",
      "127.0.0.1 - - [18/Sep/2019 10:24:35] \"GET /file/third/brat/client/src/visualizer.js HTTP/1.1\" 200 124591\n",
      "127.0.0.1 - - [18/Sep/2019 10:24:35] \"GET /file/third/brat/static/fonts/Liberation_Sans-Regular.ttf HTTP/1.1\" 404 772\n",
      "127.0.0.1 - - [18/Sep/2019 10:24:35] \"GET /favicon.ico HTTP/1.1\" 404 742\n"
     ]
    },
    {
     "name": "stdout",
     "output_type": "stream",
     "text": [
      "★\n"
     ]
    },
    {
     "name": "stderr",
     "output_type": "stream",
     "text": [
      "127.0.0.1 - - [18/Sep/2019 10:24:38] \"GET / HTTP/1.1\" 304 0\n",
      "127.0.0.1 - - [18/Sep/2019 10:24:38] \"GET /file/bratpractice.js HTTP/1.1\" 304 0\n",
      "127.0.0.1 - - [18/Sep/2019 10:24:38] \"GET /file/third/brat/static/fonts/Liberation_Sans-Regular.ttf HTTP/1.1\" 404 772\n"
     ]
    },
    {
     "name": "stdout",
     "output_type": "stream",
     "text": [
      "★\n"
     ]
    },
    {
     "name": "stderr",
     "output_type": "stream",
     "text": [
      "127.0.0.1 - - [18/Sep/2019 10:24:39] \"GET / HTTP/1.1\" 304 0\n",
      "127.0.0.1 - - [18/Sep/2019 10:24:39] \"GET /file/bratpractice.js HTTP/1.1\" 304 0\n",
      "127.0.0.1 - - [18/Sep/2019 10:24:39] \"GET /file/third/brat/static/fonts/Liberation_Sans-Regular.ttf HTTP/1.1\" 404 772\n"
     ]
    },
    {
     "name": "stdout",
     "output_type": "stream",
     "text": [
      "★\n"
     ]
    },
    {
     "name": "stderr",
     "output_type": "stream",
     "text": [
      "127.0.0.1 - - [18/Sep/2019 10:24:54] \"GET / HTTP/1.1\" 304 0\n",
      "127.0.0.1 - - [18/Sep/2019 10:24:54] \"GET /file/bratpractice.js HTTP/1.1\" 200 1193\n",
      "127.0.0.1 - - [18/Sep/2019 10:24:54] \"GET /file/third/brat/static/fonts/Liberation_Sans-Regular.ttf HTTP/1.1\" 404 772\n"
     ]
    },
    {
     "name": "stdout",
     "output_type": "stream",
     "text": [
      "★\n"
     ]
    },
    {
     "name": "stderr",
     "output_type": "stream",
     "text": [
      "127.0.0.1 - - [18/Sep/2019 10:25:03] \"GET / HTTP/1.1\" 304 0\n",
      "127.0.0.1 - - [18/Sep/2019 10:25:03] \"GET /file/bratpractice.js HTTP/1.1\" 200 1196\n"
     ]
    },
    {
     "name": "stdout",
     "output_type": "stream",
     "text": [
      "★\n"
     ]
    },
    {
     "name": "stderr",
     "output_type": "stream",
     "text": [
      "127.0.0.1 - - [18/Sep/2019 10:25:03] \"GET / HTTP/1.1\" 304 0\n",
      "127.0.0.1 - - [18/Sep/2019 10:25:03] \"GET /file/bratpractice.js HTTP/1.1\" 304 0\n"
     ]
    },
    {
     "name": "stdout",
     "output_type": "stream",
     "text": [
      "★\n"
     ]
    },
    {
     "name": "stderr",
     "output_type": "stream",
     "text": [
      "127.0.0.1 - - [18/Sep/2019 10:25:04] \"GET / HTTP/1.1\" 304 0\n",
      "127.0.0.1 - - [18/Sep/2019 10:25:04] \"GET /file/bratpractice.js HTTP/1.1\" 304 0\n"
     ]
    },
    {
     "name": "stdout",
     "output_type": "stream",
     "text": [
      "★\n"
     ]
    },
    {
     "name": "stderr",
     "output_type": "stream",
     "text": [
      "127.0.0.1 - - [18/Sep/2019 10:25:05] \"GET / HTTP/1.1\" 200 440\n",
      "127.0.0.1 - - [18/Sep/2019 10:25:05] \"GET /file/third/brat/style-vis.css HTTP/1.1\" 200 9382\n",
      "127.0.0.1 - - [18/Sep/2019 10:25:05] \"GET /file/third/brat/client/lib/head.load.min.js HTTP/1.1\" 200 3102\n",
      "127.0.0.1 - - [18/Sep/2019 10:25:05] \"GET /file/bratpractice.js HTTP/1.1\" 200 1196\n",
      "127.0.0.1 - - [18/Sep/2019 10:25:05] \"GET /file/third/brat/client/lib/jquery.svg.min.js HTTP/1.1\" 200 19316\n",
      "127.0.0.1 - - [18/Sep/2019 10:25:05] \"GET /file/third/brat/client/lib/jquery.svgdom.min.js HTTP/1.1\" 200 4645\n",
      "127.0.0.1 - - [18/Sep/2019 10:25:05] \"GET /file/third/brat/client/src/configuration.js HTTP/1.1\" 200 791\n",
      "127.0.0.1 - - [18/Sep/2019 10:25:05] \"GET /file/third/brat/client/src/util.js HTTP/1.1\" 200 21224\n",
      "127.0.0.1 - - [18/Sep/2019 10:25:05] \"GET /file/third/brat/client/src/annotation_log.js HTTP/1.1\" 200 1291\n",
      "127.0.0.1 - - [18/Sep/2019 10:25:05] \"GET /file/third/brat/client/lib/webfont.js HTTP/1.1\" 200 17305\n",
      "127.0.0.1 - - [18/Sep/2019 10:25:05] \"GET /file/third/brat/client/src/dispatcher.js HTTP/1.1\" 200 3997\n",
      "127.0.0.1 - - [18/Sep/2019 10:25:05] \"GET /file/third/brat/client/src/url_monitor.js HTTP/1.1\" 200 7105\n",
      "127.0.0.1 - - [18/Sep/2019 10:25:05] \"GET /file/third/brat/client/src/visualizer.js HTTP/1.1\" 200 124591\n",
      "127.0.0.1 - - [18/Sep/2019 10:25:05] \"GET /favicon.ico HTTP/1.1\" 404 742\n"
     ]
    },
    {
     "name": "stdout",
     "output_type": "stream",
     "text": [
      "★\n"
     ]
    },
    {
     "name": "stderr",
     "output_type": "stream",
     "text": [
      "127.0.0.1 - - [18/Sep/2019 10:28:52] \"GET / HTTP/1.1\" 200 440\n",
      "127.0.0.1 - - [18/Sep/2019 10:28:52] \"GET /file/third/brat/style-vis.css HTTP/1.1\" 200 9382\n",
      "127.0.0.1 - - [18/Sep/2019 10:28:52] \"GET /file/third/brat/client/lib/head.load.min.js HTTP/1.1\" 200 3102\n",
      "127.0.0.1 - - [18/Sep/2019 10:28:52] \"GET /file/bratpractice.js HTTP/1.1\" 200 1509\n",
      "127.0.0.1 - - [18/Sep/2019 10:28:52] \"GET /file/third/brat/client/lib/jquery.svg.min.js HTTP/1.1\" 200 19316\n",
      "127.0.0.1 - - [18/Sep/2019 10:28:52] \"GET /file/third/brat/client/lib/jquery.svgdom.min.js HTTP/1.1\" 200 4645\n",
      "127.0.0.1 - - [18/Sep/2019 10:28:52] \"GET /file/third/brat/client/src/configuration.js HTTP/1.1\" 200 791\n",
      "127.0.0.1 - - [18/Sep/2019 10:28:52] \"GET /file/third/brat/client/src/util.js HTTP/1.1\" 200 21224\n",
      "127.0.0.1 - - [18/Sep/2019 10:28:52] \"GET /file/third/brat/client/src/annotation_log.js HTTP/1.1\" 200 1291\n",
      "127.0.0.1 - - [18/Sep/2019 10:28:52] \"GET /file/third/brat/client/lib/webfont.js HTTP/1.1\" 200 17305\n",
      "127.0.0.1 - - [18/Sep/2019 10:28:52] \"GET /file/third/brat/client/src/dispatcher.js HTTP/1.1\" 200 3997\n",
      "127.0.0.1 - - [18/Sep/2019 10:28:52] \"GET /file/third/brat/client/src/url_monitor.js HTTP/1.1\" 200 7105\n",
      "127.0.0.1 - - [18/Sep/2019 10:28:52] \"GET /file/third/brat/client/src/visualizer.js HTTP/1.1\" 200 124591\n",
      "127.0.0.1 - - [18/Sep/2019 10:28:52] \"GET /favicon.ico HTTP/1.1\" 404 742\n",
      "127.0.0.1 - - [18/Sep/2019 10:28:54] \"GET /get HTTP/1.1\" 200 398\n",
      "127.0.0.1 - - [18/Sep/2019 10:28:55] \"GET /get HTTP/1.1\" 200 398\n",
      "127.0.0.1 - - [18/Sep/2019 10:28:58] \"GET /get HTTP/1.1\" 200 398\n",
      "127.0.0.1 - - [18/Sep/2019 10:28:59] \"GET /get HTTP/1.1\" 200 398\n",
      "127.0.0.1 - - [18/Sep/2019 10:28:59] \"GET /get HTTP/1.1\" 200 398\n",
      "127.0.0.1 - - [18/Sep/2019 10:28:59] \"GET /get HTTP/1.1\" 200 398\n",
      "127.0.0.1 - - [18/Sep/2019 10:29:00] \"GET /get HTTP/1.1\" 200 398\n",
      "127.0.0.1 - - [18/Sep/2019 10:29:00] \"GET /get HTTP/1.1\" 200 398\n",
      "127.0.0.1 - - [18/Sep/2019 10:29:00] \"GET /get HTTP/1.1\" 200 398\n",
      "127.0.0.1 - - [18/Sep/2019 10:29:00] \"GET /get HTTP/1.1\" 200 398\n",
      "127.0.0.1 - - [18/Sep/2019 10:29:08] \"GET /get HTTP/1.1\" 200 398\n",
      "127.0.0.1 - - [18/Sep/2019 10:29:08] \"GET /get HTTP/1.1\" 200 398\n"
     ]
    },
    {
     "name": "stdout",
     "output_type": "stream",
     "text": [
      "★\n"
     ]
    },
    {
     "name": "stderr",
     "output_type": "stream",
     "text": [
      "127.0.0.1 - - [18/Sep/2019 10:29:35] \"GET / HTTP/1.1\" 200 440\n",
      "127.0.0.1 - - [18/Sep/2019 10:29:35] \"GET /file/third/brat/style-vis.css HTTP/1.1\" 200 9382\n",
      "127.0.0.1 - - [18/Sep/2019 10:29:35] \"GET /file/third/brat/client/lib/head.load.min.js HTTP/1.1\" 200 3102\n",
      "127.0.0.1 - - [18/Sep/2019 10:29:35] \"GET /file/bratpractice.js HTTP/1.1\" 200 1506\n",
      "127.0.0.1 - - [18/Sep/2019 10:29:36] \"GET /file/third/brat/client/lib/jquery-1.7.1.min.js HTTP/1.1\" 200 93868\n",
      "127.0.0.1 - - [18/Sep/2019 10:29:36] \"GET /file/third/brat/client/lib/jquery.svg.min.js HTTP/1.1\" 200 19316\n",
      "127.0.0.1 - - [18/Sep/2019 10:29:36] \"GET /file/third/brat/client/lib/jquery.svgdom.min.js HTTP/1.1\" 200 4645\n",
      "127.0.0.1 - - [18/Sep/2019 10:29:36] \"GET /file/third/brat/client/src/configuration.js HTTP/1.1\" 200 791\n",
      "127.0.0.1 - - [18/Sep/2019 10:29:36] \"GET /file/third/brat/client/src/util.js HTTP/1.1\" 200 21224\n",
      "127.0.0.1 - - [18/Sep/2019 10:29:36] \"GET /file/third/brat/client/src/annotation_log.js HTTP/1.1\" 200 1291\n",
      "127.0.0.1 - - [18/Sep/2019 10:29:36] \"GET /file/third/brat/client/lib/webfont.js HTTP/1.1\" 200 17305\n",
      "127.0.0.1 - - [18/Sep/2019 10:29:36] \"GET /file/third/brat/client/src/dispatcher.js HTTP/1.1\" 200 3997\n",
      "127.0.0.1 - - [18/Sep/2019 10:29:36] \"GET /file/third/brat/client/src/url_monitor.js HTTP/1.1\" 200 7105\n",
      "127.0.0.1 - - [18/Sep/2019 10:29:36] \"GET /file/third/brat/client/src/visualizer.js HTTP/1.1\" 200 124591\n",
      "127.0.0.1 - - [18/Sep/2019 10:29:36] \"GET /file/third/brat/static/fonts/Liberation_Sans-Regular.ttf HTTP/1.1\" 404 772\n",
      "127.0.0.1 - - [18/Sep/2019 10:29:36] \"GET /favicon.ico HTTP/1.1\" 404 742\n"
     ]
    },
    {
     "name": "stdout",
     "output_type": "stream",
     "text": [
      "★\n"
     ]
    },
    {
     "name": "stderr",
     "output_type": "stream",
     "text": [
      "127.0.0.1 - - [18/Sep/2019 10:30:00] \"GET / HTTP/1.1\" 200 440\n",
      "127.0.0.1 - - [18/Sep/2019 10:30:00] \"GET /file/third/brat/style-vis.css HTTP/1.1\" 200 9382\n",
      "127.0.0.1 - - [18/Sep/2019 10:30:00] \"GET /file/third/brat/client/lib/head.load.min.js HTTP/1.1\" 200 3102\n",
      "127.0.0.1 - - [18/Sep/2019 10:30:00] \"GET /file/bratpractice.js HTTP/1.1\" 200 1555\n",
      "127.0.0.1 - - [18/Sep/2019 10:30:01] \"GET /file/third/brat/client/lib/jquery-1.7.1.min.js HTTP/1.1\" 200 93868\n",
      "127.0.0.1 - - [18/Sep/2019 10:30:01] \"GET /file/third/brat/client/lib/jquery-ui.min.js HTTP/1.1\" 200 210463\n",
      "127.0.0.1 - - [18/Sep/2019 10:30:01] \"GET /file/third/brat/client/lib/jquery.svg.min.js HTTP/1.1\" 200 19316\n",
      "127.0.0.1 - - [18/Sep/2019 10:30:01] \"GET /file/third/brat/client/lib/jquery.svgdom.min.js HTTP/1.1\" 200 4645\n",
      "127.0.0.1 - - [18/Sep/2019 10:30:01] \"GET /file/third/brat/client/src/configuration.js HTTP/1.1\" 200 791\n",
      "127.0.0.1 - - [18/Sep/2019 10:30:01] \"GET /file/third/brat/client/src/util.js HTTP/1.1\" 200 21224\n",
      "127.0.0.1 - - [18/Sep/2019 10:30:01] \"GET /file/third/brat/client/src/annotation_log.js HTTP/1.1\" 200 1291\n",
      "127.0.0.1 - - [18/Sep/2019 10:30:01] \"GET /file/third/brat/client/lib/webfont.js HTTP/1.1\" 200 17305\n",
      "127.0.0.1 - - [18/Sep/2019 10:30:01] \"GET /file/third/brat/client/src/dispatcher.js HTTP/1.1\" 200 3997\n",
      "127.0.0.1 - - [18/Sep/2019 10:30:01] \"GET /file/third/brat/client/src/url_monitor.js HTTP/1.1\" 200 7105\n",
      "127.0.0.1 - - [18/Sep/2019 10:30:01] \"GET /file/third/brat/client/src/visualizer.js HTTP/1.1\" 200 124591\n",
      "127.0.0.1 - - [18/Sep/2019 10:30:01] \"GET /file/third/brat/static/fonts/Liberation_Sans-Regular.ttf HTTP/1.1\" 404 772\n",
      "127.0.0.1 - - [18/Sep/2019 10:30:01] \"GET /favicon.ico HTTP/1.1\" 404 742\n",
      "127.0.0.1 - - [18/Sep/2019 10:30:08] \"GET /get HTTP/1.1\" 200 398\n"
     ]
    }
   ],
   "source": [
    "import json\n",
    "import bottle\n",
    "\n",
    "@bottle.route('/')\n",
    "def index_html():\n",
    "    print(\"★\")\n",
    "    return bottle.static_file('bratpractice.html', root='./data/static')\n",
    "\n",
    "\n",
    "@bottle.route('/file/<filename:path>')\n",
    "def static(filename):\n",
    "    return bottle.static_file(filename, root='./data/static')\n",
    "\n",
    "# get関数は固定のデータ構造を返す\n",
    "@bottle.get('/get')\n",
    "def get():\n",
    "    # dataの構造はbratで解釈できるデータ構造となっている\n",
    "    # bratのJavaScriptライブラリの仕様で記述している\n",
    "    data = {\n",
    "        # collectionでアノテーションの定義を行う\n",
    "        'collection': {\n",
    "            # アノテーションの名前や表示摺るときの色を指定している\n",
    "            'entity_types': [\n",
    "                {\n",
    "                    'type': 'Person',\n",
    "                    'bgColor': '#7fa2ff',\n",
    "                    'borderColor': 'darken'\n",
    "                }\n",
    "            ],\n",
    "        },\n",
    "        # annotationで本文と、それぞれのアノテーションのデータを指定している。\n",
    "        'annotation': {\n",
    "            'text': \"Ed O'Kelley was the man who shot the man who shot Jesse James.\",\n",
    "            # entitiesは単一のテキスト範囲のアノテーション\n",
    "            'entities': [\n",
    "                [\n",
    "                    'T1',\n",
    "                    'Person',\n",
    "                    [[0, 11]]\n",
    "                ],\n",
    "                [\n",
    "                    'T2',\n",
    "                    'Person',\n",
    "                    [[20, 23]]\n",
    "                ],\n",
    "                [\n",
    "                    'T3',\n",
    "                    'Person',\n",
    "                    [[37, 40]]\n",
    "                ],\n",
    "                [\n",
    "                    'T4',\n",
    "                    'Person',\n",
    "                    [[50, 61]]\n",
    "                ]\n",
    "            ],\n",
    "            # relationsはentities間の関係を表すアノテーション\n",
    "            'relations': [\n",
    "                [\n",
    "                    'R1',\n",
    "                    'Anaphora',\n",
    "                    [['Anaphor', 'T2'], ['Entity', 'T1']]\n",
    "                ]\n",
    "            ],\n",
    "        },\n",
    "    }\n",
    "    return json.dumps(data, ensure_ascii=False)\n",
    "\n",
    "\n",
    "bottle.run(host='localhost', port='8702')"
   ]
  }
 ],
 "metadata": {
  "kernelspec": {
   "display_name": "Python 3",
   "language": "python",
   "name": "python3"
  },
  "language_info": {
   "codemirror_mode": {
    "name": "ipython",
    "version": 3
   },
   "file_extension": ".py",
   "mimetype": "text/x-python",
   "name": "python",
   "nbconvert_exporter": "python",
   "pygments_lexer": "ipython3",
   "version": "3.6.8"
  }
 },
 "nbformat": 4,
 "nbformat_minor": 4
}
