{
 "cells": [
  {
   "cell_type": "markdown",
   "metadata": {},
   "source": [
    "### SQliteのbrat形式のデータからアノテーションを取得してbottleで可視化する"
   ]
  },
  {
   "cell_type": "markdown",
   "metadata": {},
   "source": [
    "#### SQlite接続の関数定義"
   ]
  },
  {
   "cell_type": "code",
   "execution_count": 1,
   "metadata": {},
   "outputs": [],
   "source": [
    "import json\n",
    "import sqlite3\n",
    "\n",
    "conn = None\n",
    "\n",
    "# sqlite3に接続\n",
    "def connect():\n",
    "    # global変数でconnを呼び出し\n",
    "    global conn\n",
    "    # データベースの場所を指定\n",
    "    conn = sqlite3.connect('./data/sqlite3/sqlite3')\n",
    "\n",
    "# 一部のデータを見る\n",
    "def sqlite3_get(doc_id, fl):\n",
    "    # .fetchone()で一致した内の一行を取得する\n",
    "    row_ls = conn.execute(f\"SELECT {','.join(fl)} FROM docs WHERE id = {doc_id}\").fetchone()\n",
    "    row_dict = {}\n",
    "    # flとrow_lsで抜き出したデータをzipする\n",
    "    for key, value in zip(fl, row_ls):\n",
    "        row_dict[key] = value\n",
    "    return row_dict\n",
    "\n",
    "# sqlite3を切断\n",
    "def close():\n",
    "    conn.close()\n",
    "\n",
    "# アノテーションを取得\n",
    "def get_annotation(doc_id, name):\n",
    "    # docsのid行をwhere idで指定しnameから取り出す\n",
    "    row = conn.execute('SELECT {0} FROM docs WHERE id = ?'.format(name),(doc_id,)).fetchone()\n",
    "    if row[0] is not None:\n",
    "        return json.loads(row[0])\n",
    "    else:\n",
    "        return []"
   ]
  },
  {
   "cell_type": "markdown",
   "metadata": {},
   "source": [
    "###  bottleの記述"
   ]
  },
  {
   "cell_type": "code",
   "execution_count": null,
   "metadata": {},
   "outputs": [
    {
     "name": "stderr",
     "output_type": "stream",
     "text": [
      "Bottle v0.12.17 server starting up (using WSGIRefServer())...\n",
      "Listening on http://localhost:8702/\n",
      "Hit Ctrl-C to quit.\n",
      "\n",
      "127.0.0.1 - - [20/Sep/2019 13:26:57] \"GET / HTTP/1.1\" 200 555\n",
      "127.0.0.1 - - [20/Sep/2019 13:26:57] \"GET /file/third/brat/style-vis.css HTTP/1.1\" 200 9382\n",
      "127.0.0.1 - - [20/Sep/2019 13:26:57] \"GET /file/third/brat/client/lib/head.load.min.js HTTP/1.1\" 200 3102\n",
      "127.0.0.1 - - [20/Sep/2019 13:26:57] \"GET /file/SQlitepracticeInbottle.js HTTP/1.1\" 200 1401\n",
      "127.0.0.1 - - [20/Sep/2019 13:26:57] \"GET /file/third/brat/client/lib/jquery-1.7.1.min.js HTTP/1.1\" 200 93868\n",
      "127.0.0.1 - - [20/Sep/2019 13:26:57] \"GET /file/third/brat/client/lib/jquery.svg.min.js HTTP/1.1\" 200 19316\n",
      "127.0.0.1 - - [20/Sep/2019 13:26:57] \"GET /file/third/brat/client/lib/jquery.svgdom.min.js HTTP/1.1\" 200 4645\n",
      "127.0.0.1 - - [20/Sep/2019 13:26:57] \"GET /file/third/brat/client/src/configuration.js HTTP/1.1\" 200 791\n",
      "127.0.0.1 - - [20/Sep/2019 13:26:57] \"GET /file/third/brat/client/src/util.js HTTP/1.1\" 200 21224\n",
      "127.0.0.1 - - [20/Sep/2019 13:26:57] \"GET /file/third/brat/client/src/annotation_log.js HTTP/1.1\" 200 1291\n",
      "127.0.0.1 - - [20/Sep/2019 13:26:57] \"GET /file/third/brat/client/lib/webfont.js HTTP/1.1\" 200 17305\n",
      "127.0.0.1 - - [20/Sep/2019 13:26:57] \"GET /file/third/brat/client/src/dispatcher.js HTTP/1.1\" 200 3997\n",
      "127.0.0.1 - - [20/Sep/2019 13:26:57] \"GET /file/third/brat/client/src/url_monitor.js HTTP/1.1\" 200 7105\n",
      "127.0.0.1 - - [20/Sep/2019 13:26:57] \"GET /file/third/brat/client/src/visualizer.js HTTP/1.1\" 200 124591\n",
      "127.0.0.1 - - [20/Sep/2019 13:26:57] \"GET /file/third/brat/static/fonts/Liberation_Sans-Regular.ttf HTTP/1.1\" 404 772\n",
      "127.0.0.1 - - [20/Sep/2019 13:26:57] \"GET /favicon.ico HTTP/1.1\" 404 742\n"
     ]
    },
    {
     "name": "stdout",
     "output_type": "stream",
     "text": [
      "doc_id:5\n"
     ]
    },
    {
     "name": "stderr",
     "output_type": "stream",
     "text": [
      "127.0.0.1 - - [20/Sep/2019 13:27:09] \"GET /get?id=5&names=chunk HTTP/1.1\" 200 244579\n"
     ]
    }
   ],
   "source": [
    "import json\n",
    "import re\n",
    "\n",
    "import bottle\n",
    "\n",
    "# ルートディレクトリ設定\n",
    "@bottle.route('/')\n",
    "def index_html():\n",
    "    return bottle.static_file('SQlitepracticeInbottle.html', root='./data/static/')\n",
    "\n",
    "# その他パス設定\n",
    "@bottle.route('/file/<filename:path>')\n",
    "def static(filename):\n",
    "    return bottle.static_file(filename, root='./data/static/')\n",
    "\n",
    "@bottle.get('/get')\n",
    "def get():\n",
    "    # パラメータのidを取得\n",
    "    doc_id = bottle.request.params.id\n",
    "    \n",
    "    # パラメータのnames配列を取得\n",
    "    # namesはアノテーション名が空白区切りで連結されている事を想定している\n",
    "    # splitで分割しアノテーション名のリストに変換している\n",
    "    names = bottle.request.params.names.split()\n",
    "\n",
    "    print('doc_id:' + doc_id)\n",
    "    \n",
    "    # sqlite３に接続し、id行からcontent列のデータを抜き出す\n",
    "    row = sqlite3_get(doc_id, fl=['content'])\n",
    "    text = row['content']\n",
    "#     text = re.sub(r'[。 !', '\\n', text)\n",
    "    \n",
    "    # 下記でbratのデータ型を作って置く\n",
    "    data = {\n",
    "        'collection': {\n",
    "            'entity_types':     [],\n",
    "        },\n",
    "        'annotation': {\n",
    "            'text':             text,\n",
    "            'entities':         [],\n",
    "            'relations':        [],\n",
    "        },\n",
    "    }\n",
    "\n",
    "    mapping = {}\n",
    "    for name in names:\n",
    "        # sqlite3からアノテーションを取得\n",
    "        annos = get_annotation(doc_id, name)\n",
    "        # アノテーションを番号順をつけ抜き出し\n",
    "        # dataにappendで抜き出したデータを入れ込む\n",
    "        for i, anno in enumerate(annos):\n",
    "            data['collection']['entity_types'].append({\n",
    "                'type':        name,\n",
    "                'bgColor':     '#7fa2ff',\n",
    "                'borderColor': 'darken'\n",
    "            })\n",
    "\n",
    "            Ti = 'T{0:d}'.format(len(data['annotation']['entities']) + 1)\n",
    "            data['annotation']['entities'].append([\n",
    "                Ti,\n",
    "                name,\n",
    "                [[anno['begin'], anno['end']]]\n",
    "            ])\n",
    "            mapping[(name, i)] = Ti\n",
    "    # linkの情報を扱うためにmapping変数を定義し、アノテーション名とアノテーションIDからTiを呼び出せるようにしている\n",
    "    for name in names:\n",
    "        annos = get_annotation(doc_id, name)\n",
    "        for i, anno in enumerate(annos):\n",
    "            if 'link' not in anno:\n",
    "                continue\n",
    "            name_linked, i_linked = anno['link']\n",
    "            if (name, i) not in mapping or (name_linked, i_linked) not in mapping:\n",
    "                continue\n",
    "\n",
    "            data['annotation']['relations'].append([\n",
    "                'R{0:d}'.format(len(data['annotation']['relations']) + 1),\n",
    "                'arg',\n",
    "                [['src', mapping[(name, i)]], ['tgt', mapping[(name_linked, i_linked)]]]\n",
    "            ])\n",
    "\n",
    "    return json.dumps(data, ensure_ascii=False)\n",
    "\n",
    "\n",
    "connect()\n",
    "bottle.run(host='localhost', port='8702')\n",
    "close()"
   ]
  }
 ],
 "metadata": {
  "kernelspec": {
   "display_name": "Python 3",
   "language": "python",
   "name": "python3"
  },
  "language_info": {
   "codemirror_mode": {
    "name": "ipython",
    "version": 3
   },
   "file_extension": ".py",
   "mimetype": "text/x-python",
   "name": "python",
   "nbconvert_exporter": "python",
   "pygments_lexer": "ipython3",
   "version": "3.6.8"
  }
 },
 "nbformat": 4,
 "nbformat_minor": 4
}
