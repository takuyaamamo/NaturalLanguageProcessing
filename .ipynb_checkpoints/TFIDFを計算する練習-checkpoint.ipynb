{
 "cells": [
  {
   "cell_type": "markdown",
   "metadata": {},
   "source": [
    "### TF-IDFを計算する\n",
    "文書中に含まれる単語の重要度を評価する手法\n",
    "$$\n",
    "\\mathrm{tf}-\\mathrm{idf}(w, d) = \\mathrm{tf}(w, d) \\times \\mathrm{idf}(w)\n",
    "                               = 単語wの文書d中での出現回数 \\times \\log \\displaystyle \\frac{全文書数}{単語wが出現する文書数} \n",
    "$$"
   ]
  }
 ],
 "metadata": {
  "kernelspec": {
   "display_name": "Python 3",
   "language": "python",
   "name": "python3"
  },
  "language_info": {
   "codemirror_mode": {
    "name": "ipython",
    "version": 3
   },
   "file_extension": ".py",
   "mimetype": "text/x-python",
   "name": "python",
   "nbconvert_exporter": "python",
   "pygments_lexer": "ipython3",
   "version": "3.6.8"
  }
 },
 "nbformat": 4,
 "nbformat_minor": 4
}
