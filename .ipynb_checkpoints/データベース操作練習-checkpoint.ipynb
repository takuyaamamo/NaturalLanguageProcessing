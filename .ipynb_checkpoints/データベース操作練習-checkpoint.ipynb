{
 "cells": [
  {
   "cell_type": "markdown",
   "metadata": {},
   "source": [
    "### testテーブルを作成\n",
    "- sqlite3"
   ]
  },
  {
   "cell_type": "code",
   "execution_count": 4,
   "metadata": {},
   "outputs": [],
   "source": [
    "import sqlite3\n",
    "\n",
    "# sqlite3.connectでsqlite3にアクセスできる、ファイルがない場合は新規作成される\n",
    "conn = sqlite3.connect('data/sqlite3/sample.sqlite3')\n",
    "# execute内にSQL文を記載することで操作が可能、下記は一旦きれいにしている\n",
    "conn.execute('DROP TABLE IF EXISTS test')\n",
    "conn.execute('CREATE TABLE test(id INTEGER, name TEXT, birthday)')\n",
    "# close（）でアクセス終了\n",
    "conn.close()"
   ]
  },
  {
   "cell_type": "markdown",
   "metadata": {},
   "source": [
    "### testテーブルにデータを入れる"
   ]
  },
  {
   "cell_type": "code",
   "execution_count": 6,
   "metadata": {},
   "outputs": [],
   "source": [
    "conn = sqlite3.connect('data/sqlite3/sample.sqlite3')\n",
    "conn.execute(\"INSERT INTO test VALUES (1, '太郎', '1996-01-04')\")\n",
    "# commitで確定\n",
    "conn.commit()\n",
    "conn.close()"
   ]
  },
  {
   "cell_type": "markdown",
   "metadata": {},
   "source": [
    "### testテーブルのデータを取得する"
   ]
  },
  {
   "cell_type": "code",
   "execution_count": 8,
   "metadata": {},
   "outputs": [
    {
     "name": "stdout",
     "output_type": "stream",
     "text": [
      "(1, '太郎', '1996-01-04')\n"
     ]
    }
   ],
   "source": [
    "conn = sqlite3.connect('data/sqlite3/sample.sqlite3')\n",
    "for row in conn.execute('SELECT * FROM test;'):\n",
    "    print(row)"
   ]
  }
 ],
 "metadata": {
  "kernelspec": {
   "display_name": "Python 3",
   "language": "python",
   "name": "python3"
  },
  "language_info": {
   "codemirror_mode": {
    "name": "ipython",
    "version": 3
   },
   "file_extension": ".py",
   "mimetype": "text/x-python",
   "name": "python",
   "nbconvert_exporter": "python",
   "pygments_lexer": "ipython3",
   "version": "3.6.8"
  }
 },
 "nbformat": 4,
 "nbformat_minor": 4
}
