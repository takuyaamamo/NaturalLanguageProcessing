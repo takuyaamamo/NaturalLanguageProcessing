{
 "cells": [
  {
   "cell_type": "markdown",
   "metadata": {},
   "source": [
    "### WordNetとは\n",
    "\n",
    "自然言語処理で使用する外部データ、コーパスから自動で学習したもの。上位下位の関係性がわかる。エンティティはSynsetで表される。\n",
    "- エンティティ\n",
    "\n",
    "「言葉が指し示すモノ」知識データのこと。\n",
    "- Synset\n",
    "\n",
    "WordNetのエンティティのデータ構成、Synsetは一つの概念であり、同じ意味を持つ複数の語が紐付けられている。そのSynset1つ1つもまた上位概念や下位概念などの関係でグラフの形になっている。グラフ上の距離は類似度を示す。\n"
   ]
  },
  {
   "cell_type": "markdown",
   "metadata": {},
   "source": [
    "### WordNet本体のデータと、他言語版のOpen Multilingual WordNetのデータをダウンロードする"
   ]
  },
  {
   "cell_type": "code",
   "execution_count": 1,
   "metadata": {},
   "outputs": [
    {
     "name": "stderr",
     "output_type": "stream",
     "text": [
      "[nltk_data] Downloading package wordnet to /home/vagrant/nltk_data...\n",
      "[nltk_data]   Unzipping corpora/wordnet.zip.\n",
      "[nltk_data] Downloading package omw to /home/vagrant/nltk_data...\n",
      "[nltk_data]   Unzipping corpora/omw.zip.\n"
     ]
    },
    {
     "data": {
      "text/plain": [
       "True"
      ]
     },
     "execution_count": 1,
     "metadata": {},
     "output_type": "execute_result"
    }
   ],
   "source": [
    "import nltk\n",
    "nltk.download('wordnet')\n",
    "nltk.download('omw')"
   ]
  },
  {
   "cell_type": "markdown",
   "metadata": {},
   "source": [
    "### 同義語取得と類似度を計測する関数を定義"
   ]
  },
  {
   "cell_type": "code",
   "execution_count": 5,
   "metadata": {},
   "outputs": [],
   "source": [
    "from nltk.corpus import wordnet\n",
    "\n",
    "# テキストに紐づくsynsetの類語テキストを返す\n",
    "def get_synonyms(text):\n",
    "    results = []\n",
    "    \n",
    "    # 入力されたsynsetと紐づくsynsetををwordnet.synsets(text)でよびだす\n",
    "    for synset in wordnet.synsets(text, lang='jpn'):\n",
    "        # 各synsetに紐づくテキストをlemmaに書き出し。\n",
    "        for lemma in synset.lemma_names(lang='jpn'):\n",
    "            results.append({'term': lemma})\n",
    "    return results\n",
    "\n",
    "# 類似度を計算する関数\n",
    "def calc_similarity(text1, text2):\n",
    "    # 入力されたsynsetと紐づくsynsetををwordnet.synsets(text)でよびだす\n",
    "    synsets1 = wordnet.synsets(text1, lang='jpn')\n",
    "    synsets2 = wordnet.synsets(text2, lang='jpn')\n",
    "    \n",
    "    max_sim = 0\n",
    "    \n",
    "    for synset1 in synsets1:\n",
    "        for synset2 in synsets2:\n",
    "            # Synsetのグラフ上での距離が近いほど類似度が大きいことをpath_similarityで比較する\n",
    "            sim = synset1.path_similarity(synset2)\n",
    "            if max_sim < sim:\n",
    "                max_sim = sim\n",
    "    return max_sim\n",
    "\n",
    "# 上位語を取得する関数\n",
    "def get_hypernym(text):\n",
    "    # 入力されたsynsetと紐づくsynsetををwordnet.synsets(text)でよびだす\n",
    "    synsets = wordnet.synsets(text, lang='jpn')\n",
    "    results = []\n",
    "    \n",
    "    for synset in synsets:\n",
    "        # synsetの上位概念をhypernyms関数で呼び出し、呼び出されるのはひとつ上\n",
    "        for hypernym in synset.hypernyms():\n",
    "            for lemma in hypernym.lemma_names(lang='jpn'):\n",
    "                results.append({'term': lemma})\n",
    "    return results"
   ]
  },
  {
   "cell_type": "markdown",
   "metadata": {},
   "source": [
    "### 実行してみる"
   ]
  },
  {
   "cell_type": "code",
   "execution_count": 3,
   "metadata": {},
   "outputs": [
    {
     "name": "stdout",
     "output_type": "stream",
     "text": [
      "[\n",
      "    {\n",
      "        \"term\": \"ＵＳ\"\n",
      "    },\n",
      "    {\n",
      "        \"term\": \"ＵＳＡ\"\n",
      "    },\n",
      "    {\n",
      "        \"term\": \"アメリカ\"\n",
      "    },\n",
      "    {\n",
      "        \"term\": \"Ｕ．Ｓ．Ａ．\"\n",
      "    },\n",
      "    {\n",
      "        \"term\": \"亜米利加\"\n",
      "    },\n",
      "    {\n",
      "        \"term\": \"アメリカ合衆国\"\n",
      "    },\n",
      "    {\n",
      "        \"term\": \"合衆国\"\n",
      "    },\n",
      "    {\n",
      "        \"term\": \"米\"\n",
      "    },\n",
      "    {\n",
      "        \"term\": \"米国\"\n",
      "    },\n",
      "    {\n",
      "        \"term\": \"北部諸州\"\n",
      "    },\n",
      "    {\n",
      "        \"term\": \"アメリカ合衆国\"\n",
      "    }\n",
      "]\n"
     ]
    }
   ],
   "source": [
    "import json\n",
    "\n",
    "synonyms = get_synonyms('アメリカ合衆国')\n",
    "print(json.dumps(synonyms, indent=4, ensure_ascii=False))"
   ]
  },
  {
   "cell_type": "markdown",
   "metadata": {},
   "source": [
    "### 類似度を計算する"
   ]
  },
  {
   "cell_type": "code",
   "execution_count": 4,
   "metadata": {},
   "outputs": [
    {
     "name": "stdout",
     "output_type": "stream",
     "text": [
      "1.0 アメリカ合衆国 米国\n",
      "0.2 アメリカ合衆国 日本\n"
     ]
    }
   ],
   "source": [
    "text1 = 'アメリカ合衆国'\n",
    "text2 = '米国'\n",
    "\n",
    "similarity = calc_similarity(text1, text2)\n",
    "print(similarity, text1, text2)\n",
    "\n",
    "text1 = 'アメリカ合衆国'\n",
    "text2 = '日本'\n",
    "\n",
    "similarity = calc_similarity(text1, text2)\n",
    "print(similarity, text1, text2)"
   ]
  },
  {
   "cell_type": "markdown",
   "metadata": {},
   "source": [
    "### 上位語を取り出す"
   ]
  },
  {
   "cell_type": "code",
   "execution_count": 6,
   "metadata": {},
   "outputs": [
    {
     "name": "stdout",
     "output_type": "stream",
     "text": [
      "[\n",
      "    {\n",
      "        \"term\": \"フィーリング\"\n",
      "    },\n",
      "    {\n",
      "        \"term\": \"心地\"\n",
      "    },\n",
      "    {\n",
      "        \"term\": \"心持\"\n",
      "    },\n",
      "    {\n",
      "        \"term\": \"心持ち\"\n",
      "    },\n",
      "    {\n",
      "        \"term\": \"心緒\"\n",
      "    },\n",
      "    {\n",
      "        \"term\": \"念\"\n",
      "    },\n",
      "    {\n",
      "        \"term\": \"念い\"\n",
      "    },\n",
      "    {\n",
      "        \"term\": \"思\"\n",
      "    },\n",
      "    {\n",
      "        \"term\": \"思い\"\n",
      "    },\n",
      "    {\n",
      "        \"term\": \"情\"\n",
      "    },\n",
      "    {\n",
      "        \"term\": \"想い\"\n",
      "    },\n",
      "    {\n",
      "        \"term\": \"感\"\n",
      "    },\n",
      "    {\n",
      "        \"term\": \"感じ\"\n",
      "    },\n",
      "    {\n",
      "        \"term\": \"感情\"\n",
      "    },\n",
      "    {\n",
      "        \"term\": \"気分\"\n",
      "    },\n",
      "    {\n",
      "        \"term\": \"気味\"\n",
      "    },\n",
      "    {\n",
      "        \"term\": \"気味合\"\n",
      "    },\n",
      "    {\n",
      "        \"term\": \"気味合い\"\n",
      "    },\n",
      "    {\n",
      "        \"term\": \"気持\"\n",
      "    },\n",
      "    {\n",
      "        \"term\": \"気持ち\"\n",
      "    },\n",
      "    {\n",
      "        \"term\": \"気色\"\n",
      "    },\n",
      "    {\n",
      "        \"term\": \"上景気\"\n",
      "    },\n",
      "    {\n",
      "        \"term\": \"成功\"\n",
      "    },\n",
      "    {\n",
      "        \"term\": \"振作\"\n",
      "    },\n",
      "    {\n",
      "        \"term\": \"栄耀\"\n",
      "    },\n",
      "    {\n",
      "        \"term\": \"殷富\"\n",
      "    },\n",
      "    {\n",
      "        \"term\": \"殷盛\"\n",
      "    },\n",
      "    {\n",
      "        \"term\": \"殷賑\"\n",
      "    },\n",
      "    {\n",
      "        \"term\": \"盛況\"\n",
      "    },\n",
      "    {\n",
      "        \"term\": \"盛運\"\n",
      "    },\n",
      "    {\n",
      "        \"term\": \"繁栄\"\n",
      "    },\n",
      "    {\n",
      "        \"term\": \"繁華\"\n",
      "    },\n",
      "    {\n",
      "        \"term\": \"興隆\"\n",
      "    },\n",
      "    {\n",
      "        \"term\": \"賑わい\"\n",
      "    },\n",
      "    {\n",
      "        \"term\": \"隆盛\"\n",
      "    }\n",
      "]\n"
     ]
    }
   ],
   "source": [
    "text = '幸福'\n",
    "results = get_hypernym(text)\n",
    "print(json.dumps(results, indent=4, ensure_ascii=False))"
   ]
  },
  {
   "cell_type": "markdown",
   "metadata": {},
   "source": [
    "### 下位語"
   ]
  },
  {
   "cell_type": "code",
   "execution_count": 10,
   "metadata": {},
   "outputs": [
    {
     "name": "stdout",
     "output_type": "stream",
     "text": [
      "満足\n",
      "にぎやかさ\n",
      "愉快さ\n",
      "明るさ\n",
      "歓楽\n",
      "陽気\n",
      "喜び\n",
      "悦び\n",
      "慶び\n",
      "歓び\n",
      "喜び\n",
      "幸い\n",
      "至福\n",
      "輝き\n",
      "ヘルス\n",
      "健全さ\n",
      "健康\n",
      "健康さ\n"
     ]
    }
   ],
   "source": [
    "synsets = wordnet.synsets('幸福', lang='jpn')\n",
    "\n",
    "for synset in synsets:\n",
    "    for hyponym in synset.hyponyms():\n",
    "        for lemma in hyponym.lemma_names(lang='jpn'):\n",
    "            print(lemma)"
   ]
  }
 ],
 "metadata": {
  "kernelspec": {
   "display_name": "Python 3",
   "language": "python",
   "name": "python3"
  },
  "language_info": {
   "codemirror_mode": {
    "name": "ipython",
    "version": 3
   },
   "file_extension": ".py",
   "mimetype": "text/x-python",
   "name": "python",
   "nbconvert_exporter": "python",
   "pygments_lexer": "ipython3",
   "version": "3.6.8"
  }
 },
 "nbformat": 4,
 "nbformat_minor": 4
}
