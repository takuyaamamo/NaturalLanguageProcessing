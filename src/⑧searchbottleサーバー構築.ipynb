{
 "cells": [
  {
   "cell_type": "code",
   "execution_count": null,
   "metadata": {},
   "outputs": [
    {
     "name": "stderr",
     "output_type": "stream",
     "text": [
      "Bottle v0.12.17 server starting up (using WSGIRefServer())...\n",
      "Listening on http://0.0.0.0:8702/\n",
      "Hit Ctrl-C to quit.\n",
      "\n",
      "127.0.0.1 - - [11/Nov/2019 22:53:14] \"GET / HTTP/1.1\" 200 1156\n",
      "127.0.0.1 - - [11/Nov/2019 22:53:14] \"GET /file/search.js HTTP/1.1\" 200 1218\n",
      "127.0.0.1 - - [11/Nov/2019 22:53:14] \"GET /favicon.ico HTTP/1.1\" 404 742\n",
      "127.0.0.1 - - [11/Nov/2019 22:53:28] \"GET /get?keywords=%E9%AD%9A HTTP/1.1\" 200 1681364\n"
     ]
    }
   ],
   "source": [
    "import json\n",
    "\n",
    "import bottle\n",
    "import solrindexer as indexer\n",
    "\n",
    "# bottleのフレームワークはルーティングを1ファイル内ですべて完結できる\n",
    "# 下記@bottle.route('/')内はホームルートで有ることを表す\n",
    "@bottle.route('/')\n",
    "def index_html():\n",
    "    # ルート（http://localhost:8702）にアクセスした時に表示数rファイルをsearch.htmlと指定している。\n",
    "    # rootにはフォルダまでを記述、ファイル名は第1引数に記述\n",
    "    return bottle.static_file('search.html', root='../data/static')\n",
    "\n",
    "\n",
    "@bottle.route('/file/<filename:path>')\n",
    "def static(filename):\n",
    "    # file(http://localhost:8702/file/)にアクセスした時に、data/staticフォルダの下のファイルを返す用にしている。\n",
    "    return bottle.static_file(filename, root='../data/static')\n",
    "\n",
    "# 下記はhttp://localhost:8702/getにアクセスした時に実行される\n",
    "@bottle.get('/get')\n",
    "def get():\n",
    "    # リクエストの中からkeywordsという変数を受け取る\n",
    "    # split()で空白文字で区切ってリストにする\n",
    "    keywords = bottle.request.params.keywords.split()\n",
    "    # search関数を呼びresultsのリストに代入する\n",
    "    results = indexer.search(keywords=[[keyword] for keyword in keywords])\n",
    "    # results変数をのjsonデータを返す\n",
    "    return json.dumps(results, ensure_ascii=False)\n",
    "\n",
    "# このファイルがモジュールとして実行された場合にファイル名が__namae__に入る。モジュールではなくメインのプログラムとして実行された場合__main__が__namae__に入りtrueとなる\n",
    "if __name__ == '__main__':\n",
    "# ポート番号を決めhttp://localhost:8702でアクセスできるようにしている\n",
    "    bottle.run(host='0.0.0.0', port='8702')"
   ]
  }
 ],
 "metadata": {
  "kernelspec": {
   "display_name": "Python 3",
   "language": "python",
   "name": "python3"
  },
  "language_info": {
   "codemirror_mode": {
    "name": "ipython",
    "version": 3
   },
   "file_extension": ".py",
   "mimetype": "text/x-python",
   "name": "python",
   "nbconvert_exporter": "python",
   "pygments_lexer": "ipython3",
   "version": "3.6.8"
  }
 },
 "nbformat": 4,
 "nbformat_minor": 4
}
