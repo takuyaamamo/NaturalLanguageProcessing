{
 "cells": [
  {
   "cell_type": "markdown",
   "metadata": {},
   "source": [
    "### URLテーブルを作成"
   ]
  },
  {
   "cell_type": "code",
   "execution_count": 1,
   "metadata": {},
   "outputs": [
    {
     "ename": "OperationalError",
     "evalue": "near \"AUTOINCREMENT\": syntax error",
     "output_type": "error",
     "traceback": [
      "\u001b[0;31m---------------------------------------------------------------------------\u001b[0m",
      "\u001b[0;31mOperationalError\u001b[0m                          Traceback (most recent call last)",
      "\u001b[0;32m<ipython-input-1-44ebed2be675>\u001b[0m in \u001b[0;36m<module>\u001b[0;34m\u001b[0m\n\u001b[1;32m      7\u001b[0m \u001b[0mconn\u001b[0m\u001b[0;34m.\u001b[0m\u001b[0mexecute\u001b[0m\u001b[0;34m(\u001b[0m\u001b[0;34m'DROP TABLE IF EXISTS url'\u001b[0m\u001b[0;34m)\u001b[0m\u001b[0;34m\u001b[0m\u001b[0;34m\u001b[0m\u001b[0m\n\u001b[1;32m      8\u001b[0m \u001b[0;31m# CREATE\u001b[0m\u001b[0;34m\u001b[0m\u001b[0;34m\u001b[0m\u001b[0;34m\u001b[0m\u001b[0m\n\u001b[0;32m----> 9\u001b[0;31m \u001b[0mconn\u001b[0m\u001b[0;34m.\u001b[0m\u001b[0mexecute\u001b[0m\u001b[0;34m(\u001b[0m\u001b[0;34m'CREATE TABLE url(id INTEGER AUTOINCREMENT, url TEXT, docs TEXT)'\u001b[0m\u001b[0;34m)\u001b[0m\u001b[0;34m\u001b[0m\u001b[0;34m\u001b[0m\u001b[0m\n\u001b[0m\u001b[1;32m     10\u001b[0m \u001b[0mconn\u001b[0m\u001b[0;34m.\u001b[0m\u001b[0mclose\u001b[0m\u001b[0;34m(\u001b[0m\u001b[0;34m)\u001b[0m\u001b[0;34m\u001b[0m\u001b[0;34m\u001b[0m\u001b[0m\n",
      "\u001b[0;31mOperationalError\u001b[0m: near \"AUTOINCREMENT\": syntax error"
     ]
    }
   ],
   "source": [
    "import sqlite3\n",
    "\n",
    "conn = sqlite3.connect('../data/sqlite3/sqlite3');\n",
    "\n",
    "# URLテーブルを最初に削除しておく（初期化）\n",
    "# IF EXISTSでurlテーブルの存在確認\n",
    "conn.execute('DROP TABLE IF EXISTS url')\n",
    "# CREATE\n",
    "conn.execute('CREATE TABLE url(id INTEGER AUTO_INCREMENT, url TEXT, docs TEXT)')\n",
    "conn.close()"
   ]
  },
  {
   "cell_type": "markdown",
   "metadata": {},
   "source": [
    "### クレンジングとスクレイピングの関数を定義"
   ]
  },
  {
   "cell_type": "code",
   "execution_count": null,
   "metadata": {},
   "outputs": [],
   "source": [
    "import re\n",
    "import unicodedata\n",
    "\n",
    "from bs4 import BeautifulSoup\n",
    "\n",
    "# translateで指定する変換法則を指定\n",
    "translation_table = str.maketrans(dict(zip('()!', '（）!')))\n",
    "\n",
    "# クレンジング関数\n",
    "def clense(text):\n",
    "    text = unicodedata.normalize('NFKC', text).translate(translation_table)\n",
    "    text = re.sub(r'\\s+', '　', text)\n",
    "    return text\n",
    "\n",
    "def scrape(html):\n",
    "    soup = BeautifulSoup(html, 'html.parser')\n",
    "    for block in soup.find_all(['br', 'p', 'h1', 'h2', 'h3', 'h4']):\n",
    "        # blockごとに処理\n",
    "        # 各文章の最後に'<__EOS__>'を挿入\n",
    "        if len(block.text.strip()) > 0 and block.text.strip()[-1] not in ['。', '!']:\n",
    "            block.append('<__EOS__>')\n",
    "    \n",
    "    # 本文の抽出\n",
    "    text = '\\n'.join([clense(block.text.strip()) \n",
    "                      for block in soup.find_all(['p', 'h1', 'h2', 'h3', 'h4']) if len(block.text.strip()) > 0\n",
    "                     ])\n",
    "    \n",
    "    # タイトルの抽出\n",
    "    # wikipediaの削除\n",
    "    title = clense(soup.title.text.replace(' - Wikipedia', ''))\n",
    "    return text, title"
   ]
  },
  {
   "cell_type": "markdown",
   "metadata": {},
   "source": [
    "### データをsqlite3のurlテーブルにインサート\n",
    "- glob\n",
    "- json\n",
    "- urllib.parse"
   ]
  },
  {
   "cell_type": "code",
   "execution_count": null,
   "metadata": {},
   "outputs": [],
   "source": [
    "# 特定のディレクトリに存在する特定のファイルに処理を加えられるライブラリ\n",
    "import glob\n",
    "# jsonファイルをあつえるようにするライブラリ\n",
    "import json\n",
    "# URLを分割したり解析したりできるライブラリ\n",
    "import urllib.parse\n",
    "import sqlite3\n",
    "\n",
    "conn = sqlite3.connect('../data/sqlite3/sqlite3')\n",
    "values = []\n",
    "# 語尾がhtmlのファイルを回して取り出し\n",
    "for filename in glob.glob('../data/wikipedia/*.html'):\n",
    "    # utf-8でエンコードしながらfileをfinとして開く\n",
    "    with open(filename, 'r', encoding='utf-8') as fin:\n",
    "        html = fin.read()\n",
    "        # 上記セルの関数を使用\n",
    "        text, title = scrape(html)\n",
    "        print('screaped:', title)\n",
    "        # urllib.parse.quote()はURL 構成要素として使用できるよう特殊文字をクオートしたり非 ASCII 文字を適切にエンコードする\n",
    "        url = f'https://ja.wikipedia.org/wili/{urllib.parse.quote(title)}'\n",
    "        print(url)\n",
    "        sql = \"INSERT INTO url (url, docs) VALUES ('\" + url + \"' , '\" + title + \"');\"\n",
    "        print(sql)\n",
    "        conn.execute(sql);\n",
    "        conn.commit()\n",
    "        \n",
    "conn.close()"
   ]
  }
 ],
 "metadata": {
  "kernelspec": {
   "display_name": "Python 3",
   "language": "python",
   "name": "python3"
  },
  "language_info": {
   "codemirror_mode": {
    "name": "ipython",
    "version": 3
   },
   "file_extension": ".py",
   "mimetype": "text/x-python",
   "name": "python",
   "nbconvert_exporter": "python",
   "pygments_lexer": "ipython3",
   "version": "3.6.8"
  }
 },
 "nbformat": 4,
 "nbformat_minor": 4
}
