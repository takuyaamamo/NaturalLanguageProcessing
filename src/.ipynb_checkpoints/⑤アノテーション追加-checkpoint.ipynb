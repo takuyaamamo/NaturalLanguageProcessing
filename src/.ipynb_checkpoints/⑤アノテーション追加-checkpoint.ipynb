{
 "cells": [
  {
   "cell_type": "markdown",
   "metadata": {},
   "source": [
    "### アノテーション保存用のカラム追加"
   ]
  },
  {
   "cell_type": "markdown",
   "metadata": {},
   "source": [
    "#### docsテーブル確認\n",
    " * ディレクトリ：../../NaturalLanguageProcessing/data/sqlite3/sqlite3\n",
    " * テーブル名：docs\n",
    "\n",
    "| #  | 項目                                        | 型                                   | 項目説明                                       |\n",
    "| -- | ------------------------------------------- | ------------------------------------ | -----------------------------------------------|\n",
    "| 1  | id                                          | INTEGER                              | 既に作成済                                     |\n",
    "| 2  | content                                     | TEXT                                 | 既に作成済                                     |\n",
    "| 3  | meta_info                                   | BLOB                                 | 既に作成済                                     |\n",
    "| 4  | sentence                                    | BLOB                                 | 既に作成済                                     |\n",
    "| 5  | chunk                                       | BLOB                                 | 既に作成済                                     |\n",
    "| 6  | token                                       | BLOB                                 | 既に作成済                                     |\n",
    "| 7  | <font color=\"red\"><b>affiliation</b></font> | <font color=\"red\"><b>BLOB</b></font> | <font color=\"red\"><b>今回カラム追加</b></font> |\n"
   ]
  },
  {
   "cell_type": "markdown",
   "metadata": {},
   "source": [
    "### データベース接続の関数定義"
   ]
  },
  {
   "cell_type": "code",
   "execution_count": 6,
   "metadata": {},
   "outputs": [],
   "source": [
    "import json\n",
    "import sqlite3\n",
    "\n",
    "conn = None\n",
    "\n",
    "# データベース接続\n",
    "def connect():\n",
    "    # global変数でconnを呼び出し\n",
    "    global conn\n",
    "    # データベースの場所を指定\n",
    "    conn = sqlite3.connect('../../NaturalLanguageProcessing/data/sqlite3/sqlite3')\n",
    "\n",
    "# データベース接続終了\n",
    "def close():\n",
    "#   終了\n",
    "    conn.close()\n",
    "\n",
    "# テーブル作成\n",
    "def create_table():\n",
    "#   executeでSQL構文作成、docsがあれば削除\n",
    "    conn.execute('DROP TABLE IF EXISTS docs')\n",
    "#   docsテーブルを新規作成\n",
    "    conn.execute('''CREATE TABLE docs (\n",
    "            id          INTEGER PRIMARY KEY AUTOINCREMENT,\n",
    "            content     TEXT,\n",
    "            meta_info   BLOB,\n",
    "            sentence    BLOB,\n",
    "            chunk       BLOB,\n",
    "            token       BLOB\n",
    "        )''')\n",
    "\n",
    "# データをインサートする\n",
    "def db_load(values):\n",
    "    \n",
    "#   valuesに指定したパラメータ順序またはマッピングを?に入れて実行する\n",
    "    conn.executemany(\n",
    "        'INSERT INTO docs (content, meta_info) VALUES (?,?)',\n",
    "        values)\n",
    "#   確定\n",
    "    conn.commit()\n",
    "\n",
    "# 一部のデータを見る\n",
    "def get(doc_id, fl):\n",
    "#   .fetchone()でカーソルの次の行を取得\n",
    "    row_ls = conn.execute(f\"SELECT {','.join(fl)} FROM docs WHERE id = {doc_id}\").fetchone()\n",
    "    row_dict = {}\n",
    "#   flとrow_lsで抜き出したデータをzipする\n",
    "    for key, value in zip(fl, row_ls):\n",
    "        row_dict[key] = value\n",
    "    return row_dict\n",
    "\n",
    "# id番号を抜き出す\n",
    "def get_all_ids(limit, offset=0):\n",
    "#   limitで取得上限、OFFSETで開始位置を指定してデータを抜き出す。そのデータの1番目id番号を抜き出す\n",
    "    return [record[0] for record in conn.execute('SELECT id FROM docs LIMIT ? OFFSET ?', (limit, offset))]"
   ]
  },
  {
   "cell_type": "markdown",
   "metadata": {},
   "source": [
    "#### カラム追加（affiliation）\n"
   ]
  },
  {
   "cell_type": "code",
   "execution_count": null,
   "metadata": {},
   "outputs": [],
   "source": [
    "connect()\n",
    "\n",
    "name = \"affiliation\"\n",
    "conn.execute(\"\")\n",
    "conn.execute(\"ALTER TABLE docs ADD COLUMN '{0}' 'BLOB'\".format(name))\n",
    "\n",
    "close()"
   ]
  },
  {
   "cell_type": "markdown",
   "metadata": {},
   "source": [
    "### 正規表現のパターンによるテキストデータの解析"
   ]
  },
  {
   "cell_type": "markdown",
   "metadata": {},
   "source": [
    "| 記法      | 意味                                                                |\n",
    "|-----------| ------------------------------------------------------------------- |\n",
    "| `.`       | 任意の1文字                                                         |\n",
    "| `*`       | 直前の文字の0回以上の繰り返し                                       |\n",
    "| `+`       | 直前の文字の1回以上の繰り返し                                       |\n",
    "| `*?`      | 直前の文字の0回以上の繰り返し、ただし最小部分にマッチ（最小マッチ） |\n",
    "| `+?`      | 直前の文字の1回以上の繰り返し、ただし最小部分にマッチ（最小マッチ） |\n",
    "| `[^ABC]`  | A、B、C以外の1文字                                                  |\n"
   ]
  },
  {
   "cell_type": "markdown",
   "metadata": {},
   "source": [
    "### アノテーション用関数定義"
   ]
  },
  {
   "cell_type": "code",
   "execution_count": 1,
   "metadata": {},
   "outputs": [],
   "source": [
    "\n",
    "def create_annotation(doc_id, ptn):\n",
    "    row = get(doc_id, fl=['content'])\n",
    "    text = row['content']\n",
    "    annos = []\n",
    "    for chunk in get_annotation(doc_id, 'chunk'):\n",
    "        chunk_str = text[chunk['begin']:chunk['end']]\n",
    "        m = ptn.search(chunk_str)\n",
    "        if not m:\n",
    "            continue\n",
    "        anno = {\n",
    "            'begin':    chunk['begin'] + m.start(),\n",
    "            'end':      chunk['begin'] + m.end(),\n",
    "        }\n",
    "        print(text[anno['begin']:anno['end']])\n",
    "        annos.append(anno)\n",
    "    return annos\n",
    "\n",
    "# アノテーションを設定\n",
    "def set_annotation(doc_id, name, value):\n",
    "#   docsのid行をwhere idで指定し、その行にname = valueのアノテーションを追加　\n",
    "    conn.execute('UPDATE docs SET {0} = ? where id = ?'.format(name), (json.dumps(value), doc_id))\n",
    "#   確定\n",
    "    conn.commit()\n",
    "\n",
    "# アノテーションを確認\n",
    "def get_annotation(doc_id, name):\n",
    "#   docsのid行をwhere idで指定しnameから取り出す\n",
    "    row = conn.execute('SELECT {0} FROM docs WHERE id = ?'.format(name), (doc_id,)).fetchone()\n",
    "    if row[0] is not None:\n",
    "        return json.loads(row[0])\n",
    "    else:\n",
    "        return []"
   ]
  }
 ],
 "metadata": {
  "kernelspec": {
   "display_name": "Python 3",
   "language": "python",
   "name": "python3"
  },
  "language_info": {
   "codemirror_mode": {
    "name": "ipython",
    "version": 3
   },
   "file_extension": ".py",
   "mimetype": "text/x-python",
   "name": "python",
   "nbconvert_exporter": "python",
   "pygments_lexer": "ipython3",
   "version": "3.6.8"
  }
 },
 "nbformat": 4,
 "nbformat_minor": 4
}
