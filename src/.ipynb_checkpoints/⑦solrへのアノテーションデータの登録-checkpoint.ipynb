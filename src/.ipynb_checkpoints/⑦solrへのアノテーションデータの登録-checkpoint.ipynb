{
 "cells": [
  {
   "cell_type": "markdown",
   "metadata": {},
   "source": [
    "### プログラムからSolrを検索できるように関数定義を行う"
   ]
  },
  {
   "cell_type": "code",
   "execution_count": 1,
   "metadata": {},
   "outputs": [],
   "source": [
    "import json\n",
    "import urllib.parse\n",
    "import urllib.request\n",
    "\n",
    "# 使用するSolrのURL\n",
    "solr_url = 'http://localhost:8983/solr'\n",
    "# build_openerはログインが必要なサイトのときに使用する\n",
    "opener = urllib.request.build_opener(urllib.request.ProxyHandler())\n",
    "\n",
    "# Solrにデータを登録する関数、引数dataは登録するdataをdictで指定\n",
    "def solr_load(collection, data):\n",
    "    \n",
    "    # Solrのコアに対してデータを登録するリクエストを作成,collectionにはデータ登録先のコア名を指定している\n",
    "    url='{0}/{1}/update'.format(solr_url, collection)\n",
    "    # Requestインスタンスの作成,\n",
    "    req = urllib.request.Request(\n",
    "        url,\n",
    "        # dataをdumps()でutf-8にエンコード\n",
    "        data=json.dumps(data).encode('utf-8'),\n",
    "        headers={'content-type': 'application/json'})\n",
    "\n",
    "    # データの登録を実行\n",
    "    print(url)\n",
    "    # resでリクエストの返答を受け取る\n",
    "    with opener.open(req) as res:\n",
    "        # データ確認\n",
    "        print(res.read().decode('utf-8'))\n",
    "\n",
    "    # Solrのコアに対してコミット指示するリクエストを作成,collectionにはデータ登録先のコア名を指定している\n",
    "    url = '{0}/{1}/update?softCommit=true'.format(solr_url, collection)\n",
    "    # urlに対してリクエスト\n",
    "    req = urllib.request.Request(url)\n",
    "    # resuでリクエストの返答を受け取る、opnerはプロキシ環境変数に設定している場合も動くようにする為\n",
    "    with opener.open(req) as res:\n",
    "        # データを確認\n",
    "        print(res.read().decode('utf-8'))\n",
    "        \n",
    "# solrプログラムから検索を行う関数\n",
    "def search(keywords, rows=100):\n",
    "    # keywordsは2重のリストとなる。ためkeywordsをgroup、groupをkeywordに\n",
    "    query = ' AND '.join([\n",
    "        # 内側のリストは「OR検索したい語」のリスト\n",
    "        '(' + ' OR '.join([f'content_txt_ja:\"{keyword}\"' for keyword in group])\n",
    "        # 外側のリストは「AND検索したいグループ」のリスト\n",
    "        + ')' for group in keywords\n",
    "    ])\n",
    "    # 検索クエリの作成content_txt_jaフィールドを検索するクエリを作成する。\n",
    "    data = {\n",
    "        'q':     query,\n",
    "        'wt':    'json',\n",
    "        'rows':  rows,\n",
    "        'hl':    'on',\n",
    "        'hl.fl': 'content_txt_ja',\n",
    "    }\n",
    "    # 検索リクエストの作成（＊１）\n",
    "    req = urllib.request.Request(\n",
    "        # Solrでの検索APIは/select\n",
    "        url=f'{solr_url}/doc/select',\n",
    "        # JSON形式のデータをdataとして指定\n",
    "        data=urllib.parse.urlencode(data).encode('utf-8'),)\n",
    "    # 検索リクエストの実行（＊２）\n",
    "    with opener.open(req) as res:\n",
    "        # UTF-8のバイト列からUnicode文字列からなるstr型に変換し、JSON形式の文字列とみなしてdict型に変換したものを返す\n",
    "        return json.loads(res.read().decode('utf-8'))\n",
    "\n",
    "# アノテーションを見つける関数\n",
    "def search_annotation(fl_keyword_pairs, rows=100):\n",
    "    # fl_keyword_pairsは2重のリストとなる。ためfl_keyword_pairsをgroup、groupをkeywordに\n",
    "    query = ' AND '.join([\n",
    "        # 内側のリストは「OR検索したい語」のリスト\n",
    "        '(' + ' OR '.join([f'{fl}:\"{keyword}\"' for keyword in group])\n",
    "        # 外側のリストは「AND検索したいグループ」のリスト\n",
    "        + ')' for fl, keywords in fl_keyword_pairs\n",
    "            for group in keywords\n",
    "    ])\n",
    "    # 検索クエリの作成content_txt_jaフィールドを検索するクエリを作成する。\n",
    "    data = {\n",
    "        'q':     query,\n",
    "        'wt':    'json',\n",
    "        'rows':  rows,\n",
    "    }\n",
    "    # 検索リクエストの作成（＊１）\n",
    "    req = urllib.request.Request(\n",
    "        # Solrでの検索APIは/select\n",
    "        url=f'{solr_url}/anno/select',\n",
    "        # JSON形式のデータをdataとして指定\n",
    "        data=urllib.parse.urlencode(data).encode('utf-8'),)\n",
    "    # 検索リクエストの実行（＊２）\n",
    "    with opener.open(req) as res:\n",
    "        # UTF-8のバイト列からUnicode文字列からなるstr型に変換し、JSON形式の文字列とみなしてdict型に変換したものを返す\n",
    "        return json.loads(res.read().decode('utf-8'))"
   ]
  },
  {
   "cell_type": "markdown",
   "metadata": {},
   "source": [
    "### Solrへのアノテーションデータの登録"
   ]
  },
  {
   "cell_type": "code",
   "execution_count": 9,
   "metadata": {},
   "outputs": [
    {
     "name": "stdout",
     "output_type": "stream",
     "text": [
      "WARNING: Using _default configset with data driven schema functionality. NOT RECOMMENDED for production use.\n",
      "         To turn off: bin/solr config -c anno -p 8983 -action set-user-property -property update.autoCreateFields -value false\n",
      "\n",
      "Created new core 'anno'\n"
     ]
    }
   ],
   "source": [
    "# solrにコアを作成\n",
    "! ../solr-8.2.0/bin/solr create -c anno"
   ]
  },
  {
   "cell_type": "code",
   "execution_count": 10,
   "metadata": {},
   "outputs": [],
   "source": [
    "# アノテーション関連のデータをannoに登録して、検索できるようにする。"
   ]
  }
 ],
 "metadata": {
  "kernelspec": {
   "display_name": "Python 3",
   "language": "python",
   "name": "python3"
  },
  "language_info": {
   "codemirror_mode": {
    "name": "ipython",
    "version": 3
   },
   "file_extension": ".py",
   "mimetype": "text/x-python",
   "name": "python",
   "nbconvert_exporter": "python",
   "pygments_lexer": "ipython3",
   "version": "3.6.8"
  }
 },
 "nbformat": 4,
 "nbformat_minor": 4
}
