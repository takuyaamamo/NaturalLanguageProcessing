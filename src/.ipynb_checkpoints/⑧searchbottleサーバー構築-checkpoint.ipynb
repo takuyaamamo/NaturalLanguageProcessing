{
 "cells": [
  {
   "cell_type": "code",
   "execution_count": 1,
   "metadata": {},
   "outputs": [
    {
     "ename": "ModuleNotFoundError",
     "evalue": "No module named 'nets'",
     "output_type": "error",
     "traceback": [
      "\u001b[0;31m---------------------------------------------------------------------------\u001b[0m",
      "\u001b[0;31mModuleNotFoundError\u001b[0m                       Traceback (most recent call last)",
      "\u001b[0;32m<ipython-input-1-c2f411f16c5b>\u001b[0m in \u001b[0;36m<module>\u001b[0;34m\u001b[0m\n\u001b[1;32m      1\u001b[0m \u001b[0;32mimport\u001b[0m \u001b[0mbottle\u001b[0m\u001b[0;34m\u001b[0m\u001b[0;34m\u001b[0m\u001b[0m\n\u001b[1;32m      2\u001b[0m \u001b[0;32mimport\u001b[0m \u001b[0mchainer\u001b[0m\u001b[0;34m\u001b[0m\u001b[0;34m\u001b[0m\u001b[0m\n\u001b[0;32m----> 3\u001b[0;31m \u001b[0;32mimport\u001b[0m \u001b[0mnets\u001b[0m\u001b[0;34m\u001b[0m\u001b[0;34m\u001b[0m\u001b[0m\n\u001b[0m\u001b[1;32m      4\u001b[0m \u001b[0;32mimport\u001b[0m \u001b[0mnumpy\u001b[0m\u001b[0;34m\u001b[0m\u001b[0;34m\u001b[0m\u001b[0m\n\u001b[1;32m      5\u001b[0m \u001b[0;31m# scikit-learnで学習した分類器を保存するライブラリ\u001b[0m\u001b[0;34m\u001b[0m\u001b[0;34m\u001b[0m\u001b[0;34m\u001b[0m\u001b[0m\n",
      "\u001b[0;31mModuleNotFoundError\u001b[0m: No module named 'nets'"
     ]
    }
   ],
   "source": [
    "import sys\n",
    "sys.path.append('/home/vagrant/chainer/examples/text_classification')\n",
    "import bottle\n",
    "import chainer\n",
    "import nets\n",
    "import numpy\n",
    "# scikit-learnで学習した分類器を保存するライブラリ\n",
    "from sklern.externals import joblib\n",
    "\n",
    "import dlclassifier\n",
    "import mlclassifier\n",
    "import ruleclassifier\n",
    "import solrindexer as indexer\n",
    "import sqlitedatastore as datastore\n",
    "from annoutil import find_xs_in_y\n",
    "\n",
    "# ルールによるテキスト分類の設定\n",
    "rule = ruleclassifier.get_rule()\n",
    "\n",
    "# 教師あり学習によるテキスト分類の設定\n",
    "model_ml = joblib.load('../result/model.pkl')\n",
    "vocab_ml = joblib.load('../result/vocab.pkl')\n",
    "\n",
    "# ディープラーニングによるテキスト分類の設定\n",
    "w = numpy.load('../result/w_dl.npy')\n",
    "encoder = dlclassifier.Encoder(w)\n",
    "model_dl = nets.TextClassifier(encoder, n_class=2)\n",
    "chainer.serializers.load_npz('../result/model_dl.npz', model_dl)\n",
    "with open('../result/vocab_dl.json') as f:\n",
    "    vocab_dl = json.load(f)\n",
    "\n",
    "# bottleのフレームワークはルーティングを1ファイル内ですべて完結できる\n",
    "# 下記@bottle.route('/')内はホームルートで有ることを表す\n",
    "@bottle.route('/')\n",
    "def index_html():\n",
    "    # ルート（http://localhost:8702）にアクセスした時に表示数rファイルをsearch.htmlと指定している。\n",
    "    # rootにはフォルダまでを記述、ファイル名は第1引数に記述\n",
    "    return bottle.static_file('search.html', root='../data/static')\n",
    "\n",
    "\n",
    "@bottle.route('/file/<filename:path>')\n",
    "def static(filename):\n",
    "    # file(http://localhost:8702/file/)にアクセスした時に、data/staticフォルダの下のファイルを返す用にしている。\n",
    "    return bottle.static_file(filename, root='../data/static')\n",
    "\n",
    "# 下記はhttp://localhost:8702/getにアクセスした時に実行される\n",
    "@bottle.get('/get')\n",
    "def get():\n",
    "    # リクエストの中からkeywordsと、nameという変数を受け取る\n",
    "    name = bottle.request.params.name\n",
    "    # keywordsはsplit()で空白文字で区切ってリストにする\n",
    "    keywords = bottle.request.params.keywords.split()\n",
    "    # keywordsの同義語を検索してkeywords_expandedに収納する\n",
    "    keywords_expanded = [[keyword] + [synonym['term']\n",
    "                                      for synonym in dbpediaknowledge.get_synonyms(keyword)]\n",
    "                                         for keyword in keywords]\n",
    "    # inputのkeywordsが空を想定する\n",
    "    if keywords_expanded != []:\n",
    "        fl_keyword_pairs = [(name + '_txt_ja', keywords_expanded)]\n",
    "    else:\n",
    "        fl_keyword_pairs = [('name_s', [[name]])]\n",
    "        \n",
    "    # search関数を呼びresultsのリストに代入する\n",
    "    # results = indexer.search(keywords=keywords_expanded)\n",
    "    # search_annotaion関数を呼びresultsのリストに代入する\n",
    "    results = indexer.search_annotation(fl_keyword_pairs)\n",
    "    # results変数をのjsonデータを返す\n",
    "    return json.dumps(results, ensure_ascii=False)\n",
    "\n",
    "# このファイルがモジュールとして実行された場合にファイル名が__namae__に入る。モジュールではなくメインのプログラムとして実行された場合__main__が__namae__に入りtrueとなる\n",
    "if __name__ == '__main__':\n",
    "# ポート番号を決めhttp://localhost:8702でアクセスできるようにしている\n",
    "    bottle.run(host='0.0.0.0', port='8702')"
   ]
  }
 ],
 "metadata": {
  "kernelspec": {
   "display_name": "Python 3",
   "language": "python",
   "name": "python3"
  },
  "language_info": {
   "codemirror_mode": {
    "name": "ipython",
    "version": 3
   },
   "file_extension": ".py",
   "mimetype": "text/x-python",
   "name": "python",
   "nbconvert_exporter": "python",
   "pygments_lexer": "ipython3",
   "version": "3.6.8"
  }
 },
 "nbformat": 4,
 "nbformat_minor": 4
}
