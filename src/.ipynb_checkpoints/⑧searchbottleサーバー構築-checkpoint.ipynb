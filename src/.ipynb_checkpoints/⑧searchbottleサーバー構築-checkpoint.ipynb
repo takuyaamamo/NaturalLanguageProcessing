{
 "cells": [
  {
   "cell_type": "code",
   "execution_count": null,
   "metadata": {},
   "outputs": [
    {
     "name": "stderr",
     "output_type": "stream",
     "text": [
      "Bottle v0.12.17 server starting up (using WSGIRefServer())...\n",
      "Listening on http://0.0.0.0:8702/\n",
      "Hit Ctrl-C to quit.\n",
      "\n",
      "127.0.0.1 - - [18/Sep/2019 02:58:42] \"GET / HTTP/1.1\" 200 322\n",
      "127.0.0.1 - - [18/Sep/2019 02:58:42] \"GET /file/practice.js HTTP/1.1\" 200 447\n",
      "127.0.0.1 - - [18/Sep/2019 02:58:43] \"GET / HTTP/1.1\" 304 0\n",
      "127.0.0.1 - - [18/Sep/2019 03:01:22] \"GET /get?namae=%E5%A4%AA%E9%83%8E HTTP/1.1\" 200 33\n",
      "127.0.0.1 - - [18/Sep/2019 03:02:14] \"GET /get?namae=%E5%A4%AA%E9%83%8E HTTP/1.1\" 200 33\n",
      "127.0.0.1 - - [18/Sep/2019 03:02:15] \"GET /get?namae=%E5%A4%AA%E9%83%8E HTTP/1.1\" 200 33\n",
      "127.0.0.1 - - [18/Sep/2019 03:22:10] \"GET / HTTP/1.1\" 304 0\n",
      "127.0.0.1 - - [18/Sep/2019 03:22:11] \"GET / HTTP/1.1\" 304 0\n",
      "127.0.0.1 - - [18/Sep/2019 03:22:11] \"GET / HTTP/1.1\" 304 0\n",
      "127.0.0.1 - - [18/Sep/2019 03:22:12] \"GET / HTTP/1.1\" 304 0\n",
      "127.0.0.1 - - [18/Sep/2019 03:22:12] \"GET / HTTP/1.1\" 304 0\n",
      "127.0.0.1 - - [18/Sep/2019 03:22:12] \"GET / HTTP/1.1\" 304 0\n",
      "127.0.0.1 - - [18/Sep/2019 03:22:12] \"GET / HTTP/1.1\" 304 0\n",
      "127.0.0.1 - - [18/Sep/2019 03:22:13] \"GET / HTTP/1.1\" 304 0\n",
      "127.0.0.1 - - [18/Sep/2019 03:22:13] \"GET / HTTP/1.1\" 304 0\n",
      "127.0.0.1 - - [18/Sep/2019 03:22:13] \"GET / HTTP/1.1\" 304 0\n",
      "127.0.0.1 - - [18/Sep/2019 03:22:17] \"GET /get?namae=%E5%A4%A9%E9%87%8E HTTP/1.1\" 200 33\n",
      "127.0.0.1 - - [18/Sep/2019 03:22:19] \"GET /get?namae=%E5%A4%A9%E9%87%8E HTTP/1.1\" 200 33\n",
      "127.0.0.1 - - [18/Sep/2019 03:22:19] \"GET /get?namae=%E5%A4%A9%E9%87%8E HTTP/1.1\" 200 33\n",
      "127.0.0.1 - - [18/Sep/2019 03:22:19] \"GET /get?namae=%E5%A4%A9%E9%87%8E HTTP/1.1\" 200 33\n",
      "127.0.0.1 - - [18/Sep/2019 03:22:20] \"GET /get?namae=%E5%A4%A9%E9%87%8E HTTP/1.1\" 200 33\n",
      "127.0.0.1 - - [18/Sep/2019 03:22:22] \"GET /get?namae= HTTP/1.1\" 200 27\n",
      "127.0.0.1 - - [18/Sep/2019 03:22:23] \"GET /get?namae= HTTP/1.1\" 200 27\n",
      "127.0.0.1 - - [18/Sep/2019 03:22:27] \"GET /get?namae=%3A%3A%3A HTTP/1.1\" 200 30\n",
      "127.0.0.1 - - [18/Sep/2019 03:22:33] \"GET /get?namae=%E3%81%93%E3%82%93%E3%81%AB%E3%81%A1%E3%81%AF%EF%BC%81 HTTP/1.1\" 200 45\n"
     ]
    }
   ],
   "source": [
    "import json\n",
    "\n",
    "import bottle\n",
    "\n",
    "# bottleのフレームワークはルーティングを1ファイル内ですべて完結できる\n",
    "# 下記@bottle.route('/')内はホームルートで有ることを表す\n",
    "@bottle.route('/')\n",
    "def index_html():\n",
    "    # ルート（http://localhost:8702）にアクセスした時に表示数rファイルをpractice.htmlと指定している。\n",
    "    # rootにはフォルダまでを記述、ファイル名は第1引数に記述\n",
    "    return bottle.static_file('practicebottle.html', root='./data/static')\n",
    "\n",
    "\n",
    "@bottle.route('/file/<filename:path>')\n",
    "def static(filename):\n",
    "    # file(http://localhost:8702/file/)にアクセスした時に、data/staticフォルダの下のファイルを返す用にしている。\n",
    "    return bottle.static_file(filename, root='./data/static')\n",
    "\n",
    "# 下記はhttp://localhost:8702/getにアクセスした時に実行される\n",
    "@bottle.get('/get')\n",
    "def get():\n",
    "    # リクエストの中からnamaeという変数を受け取る\n",
    "    namae = bottle.request.params.namae\n",
    "    # namae変数を'Hello world'文字列の後ろに追加してjsonデータを返す\n",
    "    return json.dumps({\n",
    "        'greet': 'Hello World, {0}!'.format(namae)\n",
    "    }, ensure_ascii=False)\n",
    "\n",
    "\n",
    "if __name__ == '__main__':\n",
    "# ポート番号を決めhttp://localhost:8702でアクセスできるようにしている\n",
    "    bottle.run(host='0.0.0.0', port='8702')"
   ]
  }
 ],
 "metadata": {
  "kernelspec": {
   "display_name": "Python 3",
   "language": "python",
   "name": "python3"
  },
  "language_info": {
   "codemirror_mode": {
    "name": "ipython",
    "version": 3
   },
   "file_extension": ".py",
   "mimetype": "text/x-python",
   "name": "python",
   "nbconvert_exporter": "python",
   "pygments_lexer": "ipython3",
   "version": "3.6.8"
  }
 },
 "nbformat": 4,
 "nbformat_minor": 4
}
