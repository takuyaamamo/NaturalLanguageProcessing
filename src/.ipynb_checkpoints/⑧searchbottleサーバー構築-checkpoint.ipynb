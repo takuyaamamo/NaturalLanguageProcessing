{
 "cells": [
  {
   "cell_type": "code",
   "execution_count": null,
   "metadata": {},
   "outputs": [
    {
     "name": "stderr",
     "output_type": "stream",
     "text": [
      "Bottle v0.12.17 server starting up (using WSGIRefServer())...\n",
      "Listening on http://0.0.0.0:8702/\n",
      "Hit Ctrl-C to quit.\n",
      "\n",
      "127.0.0.1 - - [12/Nov/2019 02:57:38] \"GET / HTTP/1.1\" 304 0\n",
      "127.0.0.1 - - [12/Nov/2019 02:57:38] \"GET /file/search.js HTTP/1.1\" 304 0\n",
      "Traceback (most recent call last):\n",
      "  File \"/home/vagrant/.local/lib/python3.6/site-packages/bottle.py\", line 862, in _handle\n",
      "    return route.call(**args)\n",
      "  File \"/home/vagrant/.local/lib/python3.6/site-packages/bottle.py\", line 1742, in wrapper\n",
      "    rv = callback(*a, **ka)\n",
      "  File \"<ipython-input-1-d5ccdbfcb18a>\", line 41, in get\n",
      "    results = indexer.search_annotation(keywords=fl_keyword_pairs)\n",
      "TypeError: search_annotation() got an unexpected keyword argument 'keywords'\n",
      "127.0.0.1 - - [12/Nov/2019 02:57:39] \"GET /get?name=affiliation&keywords=%E3%82%A4%E3%83%B3%E3%83%89 HTTP/1.1\" 500 802\n"
     ]
    }
   ],
   "source": [
    "import json\n",
    "\n",
    "import bottle\n",
    "import dbpediaknowledge\n",
    "import solrindexer as indexer\n",
    "\n",
    "# bottleのフレームワークはルーティングを1ファイル内ですべて完結できる\n",
    "# 下記@bottle.route('/')内はホームルートで有ることを表す\n",
    "@bottle.route('/')\n",
    "def index_html():\n",
    "    # ルート（http://localhost:8702）にアクセスした時に表示数rファイルをsearch.htmlと指定している。\n",
    "    # rootにはフォルダまでを記述、ファイル名は第1引数に記述\n",
    "    return bottle.static_file('search.html', root='../data/static')\n",
    "\n",
    "\n",
    "@bottle.route('/file/<filename:path>')\n",
    "def static(filename):\n",
    "    # file(http://localhost:8702/file/)にアクセスした時に、data/staticフォルダの下のファイルを返す用にしている。\n",
    "    return bottle.static_file(filename, root='../data/static')\n",
    "\n",
    "# 下記はhttp://localhost:8702/getにアクセスした時に実行される\n",
    "@bottle.get('/get')\n",
    "def get():\n",
    "    # リクエストの中からkeywordsと、nameという変数を受け取る\n",
    "    name = bottle.request.params.name\n",
    "    # keywordsはsplit()で空白文字で区切ってリストにする\n",
    "    keywords = bottle.request.params.keywords.split()\n",
    "    # keywordsの同義語を検索してkeywords_expandedに収納する\n",
    "    keywords_expanded = [[keyword] + [synonym['term']\n",
    "                                      for synonym in dbpediaknowledge.get_synonyms(keyword)]\n",
    "                                         for keyword in keywords]\n",
    "    # inputのkeywordsが空を想定する\n",
    "    if keywords_expanded != []:\n",
    "        fl_keyword_pairs = [(name + '_txt_ja', keywords_expanded)]\n",
    "    else:\n",
    "        fl_keyword_pairs = [('name_s', [[name]])]\n",
    "        \n",
    "    # search関数を呼びresultsのリストに代入する\n",
    "    # results = indexer.search(keywords=keywords_expanded)\n",
    "    # search_annotaion関数を呼びresultsのリストに代入する\n",
    "    results = indexer.search_annotation(fl_keyword_pairs)\n",
    "    # results変数をのjsonデータを返す\n",
    "    return json.dumps(results, ensure_ascii=False)\n",
    "\n",
    "# このファイルがモジュールとして実行された場合にファイル名が__namae__に入る。モジュールではなくメインのプログラムとして実行された場合__main__が__namae__に入りtrueとなる\n",
    "if __name__ == '__main__':\n",
    "# ポート番号を決めhttp://localhost:8702でアクセスできるようにしている\n",
    "    bottle.run(host='0.0.0.0', port='8702')"
   ]
  }
 ],
 "metadata": {
  "kernelspec": {
   "display_name": "Python 3",
   "language": "python",
   "name": "python3"
  },
  "language_info": {
   "codemirror_mode": {
    "name": "ipython",
    "version": 3
   },
   "file_extension": ".py",
   "mimetype": "text/x-python",
   "name": "python",
   "nbconvert_exporter": "python",
   "pygments_lexer": "ipython3",
   "version": "3.6.8"
  }
 },
 "nbformat": 4,
 "nbformat_minor": 4
}
