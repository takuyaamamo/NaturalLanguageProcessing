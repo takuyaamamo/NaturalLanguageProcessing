{
 "cells": [
  {
   "cell_type": "markdown",
   "metadata": {},
   "source": [
    "### URLテーブルを作成"
   ]
  },
  {
   "cell_type": "code",
   "execution_count": 37,
   "metadata": {},
   "outputs": [],
   "source": [
    "import sqlite3\n",
    "\n",
    "conn = sqlite3.connect('../data/sqlite3/sqlite3');\n",
    "\n",
    "# URLテーブルを最初に削除しておく（初期化）\n",
    "# IF EXISTSでurlテーブルの存在確認\n",
    "conn.execute('DROP TABLE IF EXISTS url')\n",
    "# CREATE\n",
    "conn.execute('CREATE TABLE url(id INTEGER AUTO_INCREMENT, url TEXT, docs TEXT)')\n",
    "conn.close()"
   ]
  }
 ],
 "metadata": {
  "kernelspec": {
   "display_name": "Python 3",
   "language": "python",
   "name": "python3"
  },
  "language_info": {
   "codemirror_mode": {
    "name": "ipython",
    "version": 3
   },
   "file_extension": ".py",
   "mimetype": "text/x-python",
   "name": "python",
   "nbconvert_exporter": "python",
   "pygments_lexer": "ipython3",
   "version": "3.6.8"
  }
 },
 "nbformat": 4,
 "nbformat_minor": 4
}
