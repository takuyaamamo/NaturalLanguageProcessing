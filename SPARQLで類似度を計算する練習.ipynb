{
 "cells": [
  {
   "cell_type": "markdown",
   "metadata": {},
   "source": [
    "### 同義語を取得する関数を定義"
   ]
  },
  {
   "cell_type": "code",
   "execution_count": 1,
   "metadata": {},
   "outputs": [],
   "source": [
    "from sklearn.feature_extraction.text import CountVectorizer\n",
    "from sklearn.metrics.pairwise import cosine_similarity\n",
    "from SPARQLWrapper import JSON, SPARQLWrapper\n",
    "\n",
    "def get_synonyms(text):\n",
    "    # 同義語を取得したい語の文字列をuriに代入\n",
    "    uri = f'<http://ja.dbpedia.org/resource/{text}>'\n",
    "    \n",
    "    # 公開されているSPARQLエンドポイントを指定、ここからDBpediaを使用することができる\n",
    "    sparql = SPARQLWrapper('http://ja.dbpedia.org/sparql')\n",
    "    # 戻り値をJSONフォーマットに指定\n",
    "    sparql.setReturnFormat(JSON)\n",
    "    # format関数では{}がエスケープされる為2重に繰り返して{{}}とする必要がある。\n",
    "    # UNIONでつなげる事で同義語展開ができる。最後にURIをラベルに変換したものをsynonym変数に格納する。\n",
    "    # Wikipediaの記事タイトルをsynonym変数として取得される。\n",
    "    sparql.setQuery(f'''\n",
    "        SELECT DISTINCT *\n",
    "        WHERE {{\n",
    "                {{ ?redirect <http://dbpedia.org/ontology/wikiPageRedirects> {uri} }}\n",
    "                UNION\n",
    "                {{ {uri} <http://dbpedia.org/ontology/wikiPageRedirects> ?redirect }} .\n",
    "                ?redirect <http://www.w3.org/2000/01/rdf-schema#label> ?synonym\n",
    "                }}\n",
    "    ''')\n",
    "    \n",
    "    results = []\n",
    "    for x in sparql.query().convert()['results']['bindings']:\n",
    "        word = x['synonym']['value']\n",
    "        results.append({'term': word})\n",
    "    return results"
   ]
  },
  {
   "cell_type": "markdown",
   "metadata": {},
   "source": [
    "### 類似度を計算する関数の追加"
   ]
  },
  {
   "cell_type": "code",
   "execution_count": 2,
   "metadata": {},
   "outputs": [
    {
     "name": "stdout",
     "output_type": "stream",
     "text": [
      "['/usr/lib/python36.zip', '/usr/lib/python3.6', '/usr/lib/python3.6/lib-dynload', '', '/home/vagrant/.local/lib/python3.6/site-packages', '/usr/local/lib/python3.6/dist-packages', '/usr/lib/python3/dist-packages', '/home/vagrant/.local/lib/python3.6/site-packages/IPython/extensions', '/home/vagrant/.ipython']\n"
     ]
    }
   ],
   "source": [
    "# https://www.sejuku.net/blog/66459\n",
    "# システムに関する処理をまとめたライブラリのsysを読み込む\n",
    "import sys\n",
    "# 下記でライブラリを読み込めるパス一覧を表示できる。ここにパスを書き込むと異なる階層からライブラリを読み込む事が可能となる。\n",
    "print(sys.path)\n",
    "# sys.path.append(\"相対パス\")でsys.pathに追加、ここではディレクトリまでを指定する\n",
    "sys.path.append(\"src\")\n",
    "\n",
    "import cabochaparser as parser\n",
    "\n",
    "def retrieve_abstract(text):\n",
    "    uri = f'<http://ja.dbpedia.org/resource/{text}>'\n",
    "    \n",
    "    sparql = SPARQLWrapper('http://ja.dbpedia.org/sparql')\n",
    "    sparql.setReturnFormat(JSON)\n",
    "    # 主語に指定された記事を、術語にアブストラクトのURIを指定し、目的語として帰ってくるものをsummary変数で受け取っている。\n",
    "    sparql.setQuery(f'''\n",
    "        SELECT DISTINCT *\n",
    "        WHERE {{\n",
    "            {uri} <http://dbpedia.org/ontology/abstract> ?summary\n",
    "        }}\n",
    "    ''')\n",
    "    results = sparql.query().convert()['results']['bindings']\n",
    "    if len(results) > 0:\n",
    "        return results[0]['summary']['value']\n",
    "    else:\n",
    "        return None\n",
    "    \n",
    "# 類似度の計算\n",
    "def calc_similarity(text1, text2, vectorizer=None):\n",
    "    # textそれぞれについてのtokenをとりだし、docいまとめる。\n",
    "    summary1 = retrieve_abstract(text1)\n",
    "    summary2 = retrieve_abstract(text2)\n",
    "    if summary1 is None or summary2 is None:\n",
    "        return 0.\n",
    "    sentences1, chunks1, tokens1 = parser.parse(summary1)\n",
    "    doc1 = ''.join([token['lemma'] for token in tokens1])\n",
    "    sentences2, chunks2, tokens2 = parser.parse(summary2)\n",
    "    doc2 = ''.join([token['lemma'] for token in tokens2])\n",
    "    \n",
    "    vectorizer = CountVectorizer(analyzer='word')\n",
    "    vecs = vectorizer.fit_transform([doc1, doc2])\n",
    "    \n",
    "    # コサイン類似度で比べる\n",
    "    sim = cosine_similarity(vecs)\n",
    "    \n",
    "    return sim[0][1]"
   ]
  },
  {
   "cell_type": "markdown",
   "metadata": {},
   "source": [
    "### 上記の関数を使用し類似度を計算してみる"
   ]
  },
  {
   "cell_type": "code",
   "execution_count": 6,
   "metadata": {},
   "outputs": [
    {
     "name": "stdout",
     "output_type": "stream",
     "text": [
      "0.05597170785495563 アメリカ合衆国 イギリス\n",
      "0.042257712736425826 アメリカ合衆国 ドイツ\n",
      "0.0 アメリカ合衆国 日本\n"
     ]
    }
   ],
   "source": [
    "text1 = 'アメリカ合衆国'\n",
    "text2 = 'イギリス'\n",
    "similarity = calc_similarity(text1, text2)\n",
    "print(similarity, text1, text2)\n",
    "\n",
    "text1 = 'アメリカ合衆国'\n",
    "text2 = 'ドイツ'\n",
    "similarity = calc_similarity(text1, text2)\n",
    "print(similarity, text1, text2)\n",
    "\n",
    "text1 = 'アメリカ合衆国'\n",
    "text2 = '日本'\n",
    "similarity = calc_similarity(text1, text2)\n",
    "print(similarity, text1, text2)"
   ]
  }
 ],
 "metadata": {
  "kernelspec": {
   "display_name": "Python 3",
   "language": "python",
   "name": "python3"
  },
  "language_info": {
   "codemirror_mode": {
    "name": "ipython",
    "version": 3
   },
   "file_extension": ".py",
   "mimetype": "text/x-python",
   "name": "python",
   "nbconvert_exporter": "python",
   "pygments_lexer": "ipython3",
   "version": "3.6.8"
  }
 },
 "nbformat": 4,
 "nbformat_minor": 4
}
