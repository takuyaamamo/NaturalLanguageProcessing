{
 "cells": [
  {
   "cell_type": "markdown",
   "metadata": {},
   "source": [
    "### SPARQLクエリとは\n",
    "\n",
    "DBpediaが持つRDFを操作するクエリのこと\n",
    "\n",
    "- DBpedia\n",
    "\n",
    "自然言語処理で使用する知識データ、Wikipediaの情報をデータベース化したもの、単語ごとのリンクがわかる。エンティティはURI（Uniform Resource Identifier）で表される。\n",
    "\n",
    "- RDF（Resource Description framework）トリプル\n",
    "\n",
    "主語、述語、目的語の要素を持つ形式データ構造。DBpediaの内部構造となる。\n",
    "\n",
    "- SPARQL\n",
    "\n",
    "RDF用の問い合わせ言語、SQLに似ている。\n"
   ]
  },
  {
   "cell_type": "markdown",
   "metadata": {},
   "source": [
    "### 必要なライブラリのインストール"
   ]
  },
  {
   "cell_type": "code",
   "execution_count": 1,
   "metadata": {},
   "outputs": [
    {
     "name": "stdout",
     "output_type": "stream",
     "text": [
      "Collecting sparqlwrapper\n",
      "  Downloading https://files.pythonhosted.org/packages/b0/1d/d7c60a451a255fca655fe37eb3f6e3b3daa7d33fc87eeec0d8631d501e76/SPARQLWrapper-1.8.4-py3-none-any.whl\n",
      "Collecting rdflib>=4.0 (from sparqlwrapper)\n",
      "  Downloading https://files.pythonhosted.org/packages/3c/fe/630bacb652680f6d481b9febbb3e2c3869194a1a5fc3401a4a41195a2f8f/rdflib-4.2.2-py3-none-any.whl (344kB)\n",
      "\u001b[K    100% |████████████████████████████████| 348kB 1.7MB/s ta 0:00:01\n",
      "\u001b[?25hCollecting pyparsing (from rdflib>=4.0->sparqlwrapper)\n",
      "  Downloading https://files.pythonhosted.org/packages/11/fa/0160cd525c62d7abd076a070ff02b2b94de589f1a9789774f17d7c54058e/pyparsing-2.4.2-py2.py3-none-any.whl (65kB)\n",
      "\u001b[K    100% |████████████████████████████████| 71kB 2.7MB/s ta 0:00:011\n",
      "\u001b[?25hCollecting isodate (from rdflib>=4.0->sparqlwrapper)\n",
      "  Downloading https://files.pythonhosted.org/packages/9b/9f/b36f7774ff5ea8e428fdcfc4bb332c39ee5b9362ddd3d40d9516a55221b2/isodate-0.6.0-py2.py3-none-any.whl (45kB)\n",
      "\u001b[K    100% |████████████████████████████████| 51kB 1.9MB/s ta 0:00:011\n",
      "\u001b[?25hCollecting six (from isodate->rdflib>=4.0->sparqlwrapper)\n",
      "  Using cached https://files.pythonhosted.org/packages/73/fb/00a976f728d0d1fecfe898238ce23f502a721c0ac0ecfedb80e0d88c64e9/six-1.12.0-py2.py3-none-any.whl\n",
      "Installing collected packages: pyparsing, six, isodate, rdflib, sparqlwrapper\n",
      "Successfully installed isodate-0.6.0 pyparsing-2.4.2 rdflib-4.2.2 six-1.12.0 sparqlwrapper-1.8.4\n"
     ]
    }
   ],
   "source": [
    "!pip3 install sparqlwrapper"
   ]
  },
  {
   "cell_type": "markdown",
   "metadata": {},
   "source": [
    "### 同義語を取得する関数を定義"
   ]
  },
  {
   "cell_type": "code",
   "execution_count": 5,
   "metadata": {},
   "outputs": [],
   "source": [
    "from sklearn.feature_extraction.text import CountVectorizer\n",
    "from sklearn.metrics.pairwise import cosine_similarity\n",
    "from SPARQLWrapper import JSON, SPARQLWrapper\n",
    "\n",
    "def get_synonyms(text):\n",
    "    # 同義語を取得したい語の文字列をuriに代入\n",
    "    uri = f'<http://ja.dbpedia.org/resource/{text}>'\n",
    "    \n",
    "    # 公開されているSPARQLエンドポイントを指定、ここからDBpediaを使用することができる\n",
    "    sparql = SPARQLWrapper('http://ja.dbpedia.org/sparql')\n",
    "    # 戻り値をJSONフォーマットに指定\n",
    "    sparql.setReturnFormat(JSON)\n",
    "    # format関数では{}がエスケープされる為2重に繰り返して{{}}とする必要がある。\n",
    "    # UNIONでつなげる事で同義語展開ができる。最後にURIをラベルに変換したものをsynonym変数に格納する。\n",
    "    # Wikipediaの記事タイトルをsynonym変数として取得される。\n",
    "    sparql.setQuery(f'''\n",
    "        SELECT DISTINCT *\n",
    "        WHERE {{\n",
    "                {{ ?redirect <http://dbpedia.org/ontology/wikiPageRedirects> {uri} }}\n",
    "                UNION\n",
    "                {{ {uri} <http://dbpedia.org/ontology/wikiPageRedirects> ?redirect }} .\n",
    "                ?redirect <http://www.w3.org/2000/01/rdf-schema#label> ?synonym\n",
    "                }}\n",
    "    ''')\n",
    "    \n",
    "    results = []\n",
    "    for x in sparql.query().convert()['results']['bindings']:\n",
    "        word = x['synonym']['value']\n",
    "        results.append({'term': word})\n",
    "    return results"
   ]
  },
  {
   "cell_type": "markdown",
   "metadata": {},
   "source": [
    "### 上記関数を呼び出してDBpediaから同義語を取得してみる"
   ]
  },
  {
   "cell_type": "code",
   "execution_count": 6,
   "metadata": {},
   "outputs": [
    {
     "name": "stdout",
     "output_type": "stream",
     "text": [
      "[\n",
      "    {\n",
      "        \"term\": \"United States\"\n",
      "    },\n",
      "    {\n",
      "        \"term\": \"米合衆国\"\n",
      "    },\n",
      "    {\n",
      "        \"term\": \"米国\"\n",
      "    },\n",
      "    {\n",
      "        \"term\": \"アメリカ人\"\n",
      "    },\n",
      "    {\n",
      "        \"term\": \"U.S.A.\"\n",
      "    },\n",
      "    {\n",
      "        \"term\": \"亜米利加\"\n",
      "    },\n",
      "    {\n",
      "        \"term\": \"亜米利加合衆国\"\n",
      "    },\n",
      "    {\n",
      "        \"term\": \"米利堅\"\n",
      "    },\n",
      "    {\n",
      "        \"term\": \"U.S.\"\n",
      "    },\n",
      "    {\n",
      "        \"term\": \"ユナイテッドステイツ\"\n",
      "    },\n",
      "    {\n",
      "        \"term\": \"United States of America\"\n",
      "    },\n",
      "    {\n",
      "        \"term\": \"Usa\"\n",
      "    },\n",
      "    {\n",
      "        \"term\": \"全米\"\n",
      "    },\n",
      "    {\n",
      "        \"term\": \"アメリカ合衆国人\"\n",
      "    },\n",
      "    {\n",
      "        \"term\": \"アメリカ系\"\n",
      "    },\n",
      "    {\n",
      "        \"term\": \"米国人\"\n",
      "    },\n",
      "    {\n",
      "        \"term\": \"アメリカ\"\n",
      "    },\n",
      "    {\n",
      "        \"term\": \"USA\"\n",
      "    },\n",
      "    {\n",
      "        \"term\": \"美國\"\n",
      "    },\n",
      "    {\n",
      "        \"term\": \"America\"\n",
      "    }\n",
      "]\n"
     ]
    }
   ],
   "source": [
    "import json\n",
    "\n",
    "synonyms = get_synonyms('アメリカ合衆国')\n",
    "\n",
    "print(json.dumps(synonyms, indent=4, ensure_ascii=False))"
   ]
  }
 ],
 "metadata": {
  "kernelspec": {
   "display_name": "Python 3",
   "language": "python",
   "name": "python3"
  },
  "language_info": {
   "codemirror_mode": {
    "name": "ipython",
    "version": 3
   },
   "file_extension": ".py",
   "mimetype": "text/x-python",
   "name": "python",
   "nbconvert_exporter": "python",
   "pygments_lexer": "ipython3",
   "version": "3.6.8"
  }
 },
 "nbformat": 4,
 "nbformat_minor": 4
}
